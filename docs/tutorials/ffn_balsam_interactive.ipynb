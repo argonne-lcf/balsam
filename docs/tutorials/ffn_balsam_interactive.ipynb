{
 "cells": [
  {
   "cell_type": "code",
   "execution_count": 1,
   "metadata": {},
   "outputs": [],
   "source": [
    "# The magic commands below allow reflecting the changes in an imported module without restarting the kernel.\n",
    "%load_ext autoreload\n",
    "%autoreload 2\n",
    "\n",
    "# We need to add balsam and the modules it depends on to the Python search paths. \n",
    "import sys\n",
    "sys.path.insert(0,'/soft/datascience/Balsam/0.3.5.1/env/lib/python3.6/site-packages/')\n",
    "sys.path.insert(0,'/soft/datascience/Balsam/0.3.5.1/')\n",
    "\n",
    "# We also need balsam and postgresql to be in the path. (Misha suggests this may not be necessary)\n",
    "import os\n",
    "os.environ['PATH'] ='/soft/datascience/Balsam/0.3.5.1/env/bin/:' + os.environ['PATH']\n",
    "os.environ['PATH'] +=':/soft/datascience/PostgreSQL/9.6.12/bin/'\n",
    "\n",
    "try:\n",
    "    import balsam\n",
    "except:\n",
    "    print('Cannot find balsam, make sure balsam is installed or it is available in Python search paths')    \n",
    "\n",
    "# Import widgets\n",
    "from ipywidgets import interact, interactive\n",
    "from ipywidgets import fixed, interact_manual \n",
    "from ipywidgets import Textarea, widgets, Layout, Accordion\n",
    "from ipywidgets import VBox, HBox, Box, Text, BoundedIntText"
   ]
  },
  {
   "cell_type": "code",
   "execution_count": 13,
   "metadata": {},
   "outputs": [
    {
     "name": "stdout",
     "output_type": "stream",
     "text": [
      "There are 7 Balsam databases available.\n",
      "0: /lus/theta-fs0/projects/datascience/keceli/valence_balsam/balsamdb\n",
      "1: /lus/theta-fs0/projects/datascience/keceli/balsam/nwchem_demo/db\n",
      "2: /lus/theta-fs0/projects/datascience/keceli/balsam/simint/simint_db\n",
      "3: /lus/theta-fs0/projects/datascience/keceli/balsam/balsamdb_general\n",
      "4: /lus/theta-fs0/projects/datascience/keceli/balsam/jupyter_test\n",
      "5: /lus/theta-fs0/projects/connectomics_aesp/balsam_database\n",
      "6: /lus/theta-fs0/projects/datascience/keceli/container/scaling_test/connectomics\n"
     ]
    },
    {
     "data": {
      "application/vnd.jupyter.widget-view+json": {
       "model_id": "9aaa255353494bb483093ff72498ac45",
       "version_major": 2,
       "version_minor": 0
      },
      "text/plain": [
       "interactive(children=(Dropdown(description='db', options=((0, '/lus/theta-fs0/projects/datascience/keceli/vale…"
      ]
     },
     "metadata": {},
     "output_type": "display_data"
    }
   ],
   "source": [
    "from balsam.django_config.db_index import refresh_db_index\n",
    "databasepaths = []\n",
    "databasepaths.extend(refresh_db_index())\n",
    "print(f'There are {len(databasepaths)} Balsam databases available.')\n",
    "for i,db in enumerate(databasepaths):\n",
    "    print(f'{i}: {db}')\n",
    "\n",
    "@interact(db=[(i,db) for i,db in enumerate(databasepaths)])\n",
    "def activate_database(db=''):\n",
    "    \"\"\"\n",
    "    Activates Balsam database by setting the BALSAM_DB_PATH environment variable.\n",
    "    Note: Once BALSAM_DB_PATH is set, you need to restart Jupyter kernel to change it again.\n",
    "    \"\"\"\n",
    "    os.environ[\"BALSAM_DB_PATH\"] = db\n",
    "    print(f'Selected database: {os.environ[\"BALSAM_DB_PATH\"]}')"
   ]
  },
  {
   "cell_type": "code",
   "execution_count": 12,
   "metadata": {},
   "outputs": [
    {
     "name": "stdout",
     "output_type": "stream",
     "text": [
      "Found 11 apps in /lus/theta-fs0/projects/datascience/keceli/valence_balsam/balsamdb:\n",
      "0: valence\n",
      "1: say-hello\n",
      "2: simint_avx512\n",
      "3: simint_avx2\n",
      "4: simint_avx\n",
      "5: simint_scalar\n",
      "6: valence_avx512\n",
      "7: valence_avx2\n",
      "8: valence190705\n",
      "9: valence190707\n",
      "10: valence_scalar_190707\n"
     ]
    }
   ],
   "source": [
    "# If balsam server is not running (happens after theta maintanence) you get:\n",
    "# \"OperationalError: could not connect to server: Connection refused\"\n",
    "# This exception is caught here and it tries to restart the server.\n",
    "\n",
    "from balsam.core.models import ApplicationDefinition as App\n",
    "from balsam.scripts import postgres_control\n",
    "\n",
    "try:\n",
    "    apps = App.objects.all()\n",
    "    print(f'Found {len(apps)} apps in {os.environ[\"BALSAM_DB_PATH\"]}:')\n",
    "    for i,app in enumerate(apps):\n",
    "        print(f'{i}: {app.name}')\n",
    "except Exception as e:\n",
    "    if 'could not connect to server' in e:\n",
    "        print('Exception caught. Could not connect to server.')\n",
    "        print(f'Trying to restart the Balsam server {os.environ[\"BALSAM_DB_PATH\"]} ...')\n",
    "        try:\n",
    "            postgres_control.start_main(os.environ[\"BALSAM_DB_PATH\"])\n",
    "        except Exception as e:\n",
    "            print('Exception caught:')\n",
    "            print(e.with_traceback())         \n",
    "    else:\n",
    "        print('Exception caught:')\n",
    "        print(e.with_traceback())\n"
   ]
  },
  {
   "cell_type": "code",
   "execution_count": 16,
   "metadata": {},
   "outputs": [
    {
     "data": {
      "application/vnd.jupyter.widget-view+json": {
       "model_id": "9f09222208c144abb221af4c482a4999",
       "version_major": 2,
       "version_minor": 0
      },
      "text/plain": [
       "interactive(children=(Text(value='', description='name'), Text(value='', description='executable'), Text(value…"
      ]
     },
     "metadata": {},
     "output_type": "display_data"
    }
   ],
   "source": [
    "#apps = App.objects.all()\n",
    "@interact(name='',executable='',checkexe=False,description='',preprocess='',postprocess='',saveapp=False)\n",
    "def add_app(name, executable, description='', envscript='', preprocess='', postprocess='', checkexe=False,saveapp=False):\n",
    "    \"\"\"\n",
    "    Adds a new app to the balsam database.\n",
    "    Parameters\n",
    "    ----------\n",
    "    name: str, name of the app\n",
    "    executable: str, path to the executable\n",
    "    checkexe: boolean, True: check if executable is available\n",
    "    description: str, info about the app\n",
    "    preprocess: str, path to the preprocessing script\n",
    "    postprocess: str, path to the postprocessing script\n",
    "    saveapp: boolean, True: save app to the database\n",
    "    \"\"\"\n",
    "    from balsam.core.models import ApplicationDefinition as App\n",
    "    import shutil\n",
    "    newapp = App()\n",
    "    if checkexe:\n",
    "        if shutil.which(executable):        \n",
    "            print('{} is found'.format(executable))\n",
    "        else:\n",
    "            print('{} is not found'.format(executable))\n",
    "            return newapp\n",
    "        \n",
    "    if App.objects.filter(name=name).exists():\n",
    "        print(\"An application named {} already exists\".format(name))\n",
    "    else:\n",
    "        newapp.name        = name\n",
    "        newapp.executable  = executable\n",
    "        newapp.description = description\n",
    "        newapp.envscript   = envscript\n",
    "        newapp.preprocess  = preprocess\n",
    "        newapp.postprocess = postprocess\n",
    "        if saveapp:\n",
    "            newapp.save()\n",
    "            print(f'{newapp.name} added to the balsam database.')\n",
    "    return newapp\n"
   ]
  },
  {
   "cell_type": "code",
   "execution_count": 16,
   "metadata": {
    "scrolled": true
   },
   "outputs": [],
   "source": [
    "# Not ready, find how to add dictionaries\n",
    "#apps = App.objects.all()\n",
    "#appnames = [app.name for app in apps]\n",
    "@interact(name='', workflow='', application=appnames, description='', args='', num_nodes=range(1,4394), ranks_per_node=range(1,256),cpu_affinity=['depth','none'],data={},environ_vars={})\n",
    "def add_job(name, workflow, application, description='', args='', num_nodes=1, ranks_per_node=1,cpu_affinity='depth',data={},environ_vars={}):\n",
    "    from balsam.launcher.dag import BalsamJob\n",
    "    job                = BalsamJob()\n",
    "    job.name           = name\n",
    "    job.workflow       = workflow\n",
    "    job.application    = application\n",
    "    job.description    = description\n",
    "    job.args           = args\n",
    "    job.num_nodes      = num_nodes\n",
    "    job.ranks_per_node = ranks_per_node\n",
    "    job.cpu_affinity   = cpu_affinity\n",
    "    job.environ_vars   = environ_vars\n",
    "    job.data           = {}\n",
    "    job.save()"
   ]
  },
  {
   "cell_type": "code",
   "execution_count": 5,
   "metadata": {},
   "outputs": [
    {
     "data": {
      "application/vnd.jupyter.widget-view+json": {
       "model_id": "5194240aa7984cd1965033ef878b1db2",
       "version_major": 2,
       "version_minor": 0
      },
      "text/plain": [
       "interactive(children=(Text(value='', description='job_id'), Checkbox(value=False, description='show_output'), …"
      ]
     },
     "metadata": {},
     "output_type": "display_data"
    }
   ],
   "source": [
    "#def print_job_info(id=''):\n",
    "@interact(job_id='',show_output=False)\n",
    "def get_job_info(job_id='',show_output=False):\n",
    "    \"\"\"\n",
    "    Prints verbose job info for a given job id.\n",
    "    Parameters\n",
    "    ----------\n",
    "    job_id: str, Partial or full Balsam job id.\n",
    "    \"\"\"\n",
    "    from balsam.launcher.dag import BalsamJob as Job\n",
    "    jobs = Job.objects.all().filter(job_id__contains=job_id)\n",
    "    if len(jobs) == 1:\n",
    "        thejob = jobs[0]\n",
    "        print(jobs[0])\n",
    "        if show_output:\n",
    "            output = f'{thejob.working_directory}/{thejob.name}.out'\n",
    "            with open(output) as f:\n",
    "                out = f.read()\n",
    "            print(f'Output file {output} content:')\n",
    "            print(out)\n",
    "    elif len(jobs) == 0:\n",
    "        print('No matching jobs')\n",
    "    else:\n",
    "        print(f'{len(jobs)} jobs matched, enter full id.')"
   ]
  },
  {
   "cell_type": "code",
   "execution_count": 17,
   "metadata": {
    "scrolled": true
   },
   "outputs": [
    {
     "data": {
      "application/vnd.jupyter.widget-view+json": {
       "model_id": "2eafb6054148498a9ade5421e343d279",
       "version_major": 2,
       "version_minor": 0
      },
      "text/plain": [
       "interactive(children=(Dropdown(description='state', options=('ALL', 'CREATED', 'AWAITING_PARENTS', 'READY', 'S…"
      ]
     },
     "metadata": {},
     "output_type": "display_data"
    }
   ],
   "source": [
    "from balsam.launcher.dag import BalsamJob as Job\n",
    "#for job in Job.objects.filter(state='JOB_FINISHED',workflow='wf_test_valence190705').all():\n",
    "from balsam.core.models import ApplicationDefinition as App\n",
    "allstates = ['ALL',\n",
    "             'CREATED',\n",
    "             'AWAITING_PARENTS',\n",
    "             'READY',\n",
    "             'STAGED_IN',\n",
    "             'PREPROCESSED',\n",
    "             'RUNNING',\n",
    "             'RUN_DONE',\n",
    "             'POSTPROCESSED',\n",
    "             'JOB_FINISHED',\n",
    "             'RUN_TIMEOUT',\n",
    "             'RUN_ERROR',\n",
    "             'RESTART_READY',\n",
    "             'FAILED',\n",
    "             'USER_KILLED']\n",
    "allworkflows = [wf['workflow'] for wf in Job.objects.order_by().values('workflow').distinct()]\n",
    "allworkflows.append('ALL')\n",
    "allapps = [app.name for app in App.objects.all()]\n",
    "allapps.append('ALL')\n",
    "@interact(state=allstates,workflow=allworkflows,app=allapps,name='')\n",
    "def list_jobs(state='ALL',workflow='ALL',app='ALL',name=''):\n",
    "    jobs = Job.objects.all()\n",
    "    print(f'Total number of jobs: {len(jobs)}')\n",
    "    if state != 'ALL':\n",
    "        jobs = jobs.filter(state=state)\n",
    "    if workflow != 'ALL':\n",
    "        jobs = jobs.filter(workflow=workflow)\n",
    "    if app != 'ALL':\n",
    "        jobs = jobs.filter(application=app)\n",
    "    if name:\n",
    "        jobs = jobs.filter(name__icontains=name)\n",
    "    print(f'Selected number of jobs: {len(jobs)}')\n",
    "    if len(jobs) > 0: \n",
    "        t = '{:<20}'.format('Name')\n",
    "        t += ' {:>8}'.format('Nodes')\n",
    "        t += ' {:>12}'.format('Ranks')\n",
    "        t += ' {:^8}'.format('ID')\n",
    "        if state =='JOB_FINISHED':\n",
    "            t += '{:>12}'.format('Runtime')\n",
    "        elif state =='ALL':\n",
    "            t += '{:>15}'.format('State')\n",
    "        print(t)\n",
    "        for job in jobs:\n",
    "            s = '{:<20.15}'.format(job.name)\n",
    "            s += ' {:>8}'.format(job.num_nodes)\n",
    "            s += ' {:>12}'.format(job.num_ranks)\n",
    "            s += '  {:>8}'.format(str(job.job_id).split('-')[0])            \n",
    "\n",
    "            if state =='JOB_FINISHED':\n",
    "                s += '{:>12.3f}'.format(job.runtime_seconds)\n",
    "            elif state =='ALL':\n",
    "                s += '{:>15}'.format(job.state)\n",
    "            print(s)"
   ]
  },
  {
   "cell_type": "code",
   "execution_count": null,
   "metadata": {},
   "outputs": [],
   "source": []
  }
 ],
 "metadata": {
  "kernelspec": {
   "display_name": "Python 3",
   "language": "python",
   "name": "python3"
  },
  "language_info": {
   "codemirror_mode": {
    "name": "ipython",
    "version": 3
   },
   "file_extension": ".py",
   "mimetype": "text/x-python",
   "name": "python",
   "nbconvert_exporter": "python",
   "pygments_lexer": "ipython3",
   "version": "3.6.8"
  }
 },
 "nbformat": 4,
 "nbformat_minor": 2
}
