{
 "cells": [
  {
   "cell_type": "code",
   "execution_count": 158,
   "metadata": {},
   "outputs": [],
   "source": [
    "from matplotlib import pyplot as plt\n",
    "import matplotlib as mpl\n",
    "import matplotlib.gridspec as gridspec\n",
    "from matplotlib.ticker import (MultipleLocator, AutoMinorLocator)\n",
    "from datetime import datetime, timedelta\n",
    "from contextlib import contextmanager\n",
    "\n",
    "import seaborn as sns\n",
    "from pathlib import Path\n",
    "from dateutil.parser import isoparse\n",
    "import numpy as np\n",
    "import pandas as pd\n",
    "\n",
    "from collections import defaultdict\n",
    "\n",
    "from balsam.api import Job, EventLog, BatchJob\n",
    "from balsam.schemas import EventOrdering\n",
    "from balsam.analytics import throughput_report, utilization_report, available_nodes\n",
    "\n",
    "%matplotlib inline\n",
    "#mpl.use('pdf')\n",
    "sns.set_context(\"paper\", font_scale=1)\n",
    "plt.rc('font', family='serif', serif='Times', size=8)\n",
    "plt.rc('text', usetex=True)\n",
    "plt.rc('xtick', labelsize=8)\n",
    "plt.rc('ytick', labelsize=8)\n",
    "plt.rc('axes', labelsize=8)\n",
    "plt.rc('legend', fontsize=8)\n",
    "mpl.rc('text', usetex = True)\n",
    "\n",
    "COLWIDTH = 3.42\n",
    "FULLWIDTH = 6.97\n",
    "\n",
    "@contextmanager\n",
    "def inline_plot():\n",
    "    try:\n",
    "        mpl.use(\"module://ipykernel.pylab.backend_inline\")\n",
    "        %matplotlib inline\n",
    "        yield\n",
    "    finally:\n",
    "        mpl.use(\"pdf\")\n",
    "\n",
    "def autolabel(ax, rects, values=None, fontsize=None, offset=0):\n",
    "    \"\"\"Attach a text label above each bar in *rects*, displaying its height.\"\"\"\n",
    "    for i, rect in enumerate(rects):\n",
    "        height = rect.get_height() if values is None else values[i]\n",
    "        ax.annotate('{:.1f}'.format(height),\n",
    "                    xy=(offset + rect.get_x() + rect.get_width() / 2, height),\n",
    "                    xytext=(0, 1),  # 3 points vertical offset\n",
    "                    textcoords=\"offset points\",\n",
    "                    ha='center', va='bottom', fontsize=fontsize)\n",
    "        \n",
    "def multi_barplot(ax, x_labels, legend_labels, *datasets, height_labels=None, color_offset=0, fontsize=None):\n",
    "    x = np.arange(len(x_labels))  # the label locations\n",
    "    rects = []\n",
    "    offsets = {\n",
    "        1: [0.0],\n",
    "        2: [-0.25, 0.0],\n",
    "        3: [-0.375, -0.125, 0.125],\n",
    "    }[len(datasets)]\n",
    "    width = {\n",
    "        1: 0.5,\n",
    "        2: 0.25,\n",
    "        3: 0.25,\n",
    "    }[len(datasets)]\n",
    "    \n",
    "    label_offsets = {\n",
    "        0: -0.05,\n",
    "        1: 0.05,\n",
    "    }\n",
    "    \n",
    "    for i, data in enumerate(datasets):\n",
    "        assert len(data) == len(x_labels)\n",
    "        color = sns.color_palette()[i+color_offset]\n",
    "        rect = ax.bar(x + offsets[i], data, width, label=(legend_labels[i] if legend_labels else None), color=color)\n",
    "        rects.append(rect)\n",
    "\n",
    "    ax.set_xticks(x)\n",
    "    ax.set_xticklabels(x_labels)\n",
    "    if legend_labels:\n",
    "        assert len(legend_labels) == len(datasets)\n",
    "        ax.legend()\n",
    "    if height_labels:\n",
    "        for labelset, rect in zip(height_labels, rects):\n",
    "            autolabel(ax, rect, labelset, fontsize=fontsize)\n",
    "    else:\n",
    "        for i, rect in enumerate(rects):\n",
    "            autolabel(ax, rect, fontsize=fontsize, offset=label_offsets[i])\n",
    "            \n",
    "def move_legend(ax, new_loc, **kws):\n",
    "    old_legend = ax.legend_\n",
    "    handles = old_legend.legendHandles\n",
    "    labels = [t.get_text() for t in old_legend.get_texts()]\n",
    "    title = old_legend.get_title().get_text()\n",
    "    ax.legend(handles, labels, loc=new_loc, title=title, **kws)"
   ]
  },
  {
   "cell_type": "markdown",
   "metadata": {},
   "source": [
    "#  Batch Cluster"
   ]
  },
  {
   "cell_type": "code",
   "execution_count": 159,
   "metadata": {},
   "outputs": [],
   "source": [
    "top = Path(\"data/batch-cluster-experiments\")\n",
    "theta_top = Path(\"/projects/WorkExpFacil/msalim/batch-cluster-experiments/\")\n",
    "\n",
    "run_logs = list(top.glob(\"*.log\"))\n",
    "run_names_theta = [run_log.with_suffix(\"\").name for run_log in run_logs]\n",
    "\n",
    "\n",
    "def load_submit_times(run_log, original_dir):\n",
    "    result = {}\n",
    "    with open(run_log) as fp:\n",
    "        for line in fp:\n",
    "            if line.startswith(\"SUBMITTED:\"):\n",
    "                _, job_path, tstr = line.split()\n",
    "                job_path = Path(job_path).relative_to(original_dir)\n",
    "                result[job_path] = isoparse(tstr)\n",
    "    return result\n",
    "\n",
    "submit_times = {}\n",
    "for run_log in run_logs:\n",
    "    run_name = run_log.with_suffix(\"\").name\n",
    "    submit_times[run_name] = load_submit_times(run_log,  original_dir=theta_top)"
   ]
  },
  {
   "cell_type": "code",
   "execution_count": 160,
   "metadata": {},
   "outputs": [],
   "source": [
    "job_start_times = {}\n",
    "copied_in_times = {}\n",
    "app_done_times = {}\n",
    "copied_out_times = {}\n",
    "\n",
    "def load_times(run_dir):\n",
    "    run_start_times, run_copied_in_times, run_done_times, run_copy_out_times = {}, {}, {}, {}\n",
    "    for outfile in run_dir.glob(\"**/job.output\"):\n",
    "        with open(outfile) as fp:\n",
    "            key = Path(outfile.parent.relative_to(top).as_posix().upper())\n",
    "            dat = {\n",
    "                (\"START_RUN:\" if \"START_RUN\" in line else line.split()[0]): \n",
    "                isoparse(line.split()[1]).replace(tzinfo=None)\n",
    "                for line in fp\n",
    "                if len(line.split()) == 2 \n",
    "            }\n",
    "            try:\n",
    "                run_start_times[key] = dat[\"START_RUN:\"]\n",
    "                run_copied_in_times[key] = dat[\"COPIED_INPUT:\"]\n",
    "                run_done_times[key] = dat[\"RUN_DONE:\"]    \n",
    "                run_copy_out_times[key] = dat[\"COPIED_OUTPUT:\"]\n",
    "            except KeyError:\n",
    "                pass\n",
    "    completed_keys = run_start_times.keys() & run_copied_in_times.keys() & run_done_times.keys() & run_copy_out_times.keys()\n",
    "    run_start_times = {k: run_start_times[k] for k in completed_keys}\n",
    "    run_copied_in_times = {k: run_copied_in_times[k] for k in completed_keys}\n",
    "    run_done_times = {k: run_done_times[k] for k in completed_keys}\n",
    "    run_copy_out_times = {k: run_copy_out_times[k] for k in completed_keys}\n",
    "    return run_start_times, run_copied_in_times, run_done_times, run_copy_out_times \n",
    "\n",
    "\n",
    "for run_name in run_names_theta:\n",
    "    rs, rci, rd, rco = load_times(top.joinpath(run_name))\n",
    "    job_start_times[run_name] = rs\n",
    "    copied_in_times[run_name] = rci\n",
    "    app_done_times[run_name] = rd\n",
    "    copied_out_times[run_name] = rco\n",
    "    \n",
    "def throughput_cluster(size):\n",
    "    result = {}\n",
    "    names = [name for name in run_names_theta if size.upper() in name.upper()]\n",
    "    for run_name in names:\n",
    "        t0 = min(job_start_times[run_name].values())\n",
    "        tf = max(copied_out_times[run_name].values())\n",
    "        num_done = len(copied_out_times[run_name].values())\n",
    "        jps = num_done / (tf-t0).total_seconds()\n",
    "        result[int(run_name[:-1])] = jps * 60\n",
    "    return result\n",
    "    \n",
    "labels = [4, 8, 16, 32]\n",
    "dat = throughput_cluster(\"S\")\n",
    "thru_clusterS = [dat[k] for k in labels]\n",
    "dat = throughput_cluster(\"L\")\n",
    "thru_clusterL = [dat[k] for k in labels]\n",
    "dat = throughput_cluster(\"C\")\n",
    "thru_clusterC = [dat[k] for k in labels]"
   ]
  },
  {
   "cell_type": "code",
   "execution_count": 161,
   "metadata": {},
   "outputs": [],
   "source": [
    "top = Path(\"data/batch-cluster-cori-results\")\n",
    "cori_top = Path(\"/global/project/projectdirs/m3676/msalim/batch-cluster-cori/\")\n",
    "\n",
    "run_logs = list(top.glob(\"*.log\"))\n",
    "run_names_cori = [run_log.with_suffix(\"\").name for run_log in run_logs]\n",
    "\n",
    "submit_times_cori = {}\n",
    "for run_log in run_logs:\n",
    "    run_name = run_log.with_suffix(\"\").name\n",
    "    submit_times_cori[run_name] = load_submit_times(run_log, original_dir=cori_top)\n",
    "    \n",
    "job_start_times_cori = {}\n",
    "copied_in_times_cori = {}\n",
    "app_done_times_cori = {}\n",
    "copied_out_times_cori = {}\n",
    "\n",
    "for run_name in run_names_cori:\n",
    "    rs, rci, rd, rco = load_times(top.joinpath(run_name))\n",
    "    job_start_times_cori[run_name] = rs\n",
    "    copied_in_times_cori[run_name] = rci\n",
    "    app_done_times_cori[run_name] = rd\n",
    "    copied_out_times_cori[run_name] = rco\n",
    "    \n",
    "def throughput_cluster_cori(size):\n",
    "    result = {}\n",
    "    names = [name for name in run_names_cori if size.upper() in name.upper()]\n",
    "    for run_name in names:\n",
    "        t0 = min(job_start_times_cori[run_name].values())\n",
    "        tf = max(copied_out_times_cori[run_name].values())\n",
    "        num_done = len(copied_out_times_cori[run_name].values())\n",
    "        jps = num_done / (tf-t0).total_seconds()\n",
    "        result[int(run_name.split('-')[0][:-1])] = jps * 60\n",
    "    return result\n",
    "\n",
    "dat = throughput_cluster_cori(\"S\")\n",
    "thru_cluster_coriS = [dat[k] for k in labels]\n",
    "dat = throughput_cluster_cori(\"L\")\n",
    "thru_cluster_coriL = [dat[k] for k in labels]\n",
    "dat = throughput_cluster_cori(\"C\")\n",
    "thru_cluster_coriC = [dat[k] for k in labels]"
   ]
  },
  {
   "cell_type": "code",
   "execution_count": 162,
   "metadata": {},
   "outputs": [],
   "source": [
    "tag_sets = {\n",
    "    \"L\": [\n",
    "      {\"size\": \"L\", \"num_nodes\": \"32\", \"experiment\": \"eig-scaling-theta4\", \"job_source\": \"aps_dtn\"},\n",
    "      {\"size\": \"L\", \"num_nodes\": \"8\", \"experiment\": \"eig-scaling-theta4\", \"job_source\": \"aps_dtn\"},\n",
    "      {\"size\": \"L\", \"num_nodes\": \"16\", \"experiment\": \"eig-scaling-theta4\", \"job_source\": \"aps_dtn\"},\n",
    "      {\"size\": \"L\", \"num_nodes\": \"4\", \"experiment\": \"eig-scaling-theta4\", \"job_source\": \"aps_dtn\"},\n",
    "    ],\n",
    "    \"S\": [\n",
    "      {\"size\": \"S\", \"num_nodes\": \"32\", \"experiment\": \"eig-scaling-theta1\", \"job_source\": \"aps_dtn\"},\n",
    "      {\"size\": \"S\", \"num_nodes\": \"4\", \"experiment\": \"eig-scaling-theta2\", \"job_source\": \"aps_dtn\"}, # or eig-scaling-theta3\n",
    "      {\"size\": \"S\", \"num_nodes\": \"16\", \"experiment\": \"eig-scaling-theta2\", \"job_source\": \"aps_dtn\"},\n",
    "      {\"size\": \"S\", \"num_nodes\": \"8\", \"experiment\": \"eig-scaling-theta2\", \"job_source\": \"aps_dtn\"},\n",
    "   ],\n",
    "    \"C\": [\n",
    "      {\"size\": \"C\", \"num_nodes\": \"4\", \"experiment\": \"eig-scaling-theta4\", \"job_source\": \"aps_dtn\"},\n",
    "      {\"size\": \"C\", \"num_nodes\": \"16\", \"experiment\": \"eig-scaling-theta4\", \"job_source\": \"aps_dtn\"},\n",
    "      {\"size\": \"C\", \"num_nodes\": \"32\", \"experiment\": \"eig-scaling-theta4\", \"job_source\": \"aps_dtn\"},\n",
    "      {\"size\": \"C\", \"num_nodes\": \"8\", \"experiment\": \"eig-scaling-theta4\", \"job_source\": \"aps_dtn\"},\n",
    "   ]\n",
    "}\n",
    "\n",
    "\n",
    "def job_qs_to_pipeline_df(qs):\n",
    "    job_ids = [j.id for j in qs]\n",
    "    events_by_jobid = defaultdict(dict)\n",
    "  \n",
    "    qs = EventLog.objects.filter(job_id=job_ids)\n",
    "    for event in qs:\n",
    "        events_by_jobid[event.job_id][event.to_state] = event.timestamp\n",
    "        \n",
    "    tb_stagein = [(e[\"STAGED_IN\"] - e[\"READY\"]).total_seconds() for e in events_by_jobid.values() if \"RESTART_READY\" not in e]\n",
    "    tb_run_delay = [(e[\"RUNNING\"] - e[\"STAGED_IN\"]).total_seconds() for e in events_by_jobid.values() if \"RESTART_READY\" not in e]\n",
    "    tb_run_time = [(e[\"RUN_DONE\"] - e[\"RUNNING\"]).total_seconds() for e in events_by_jobid.values() if \"RESTART_READY\" not in e]\n",
    "    tb_stageout = [(e[\"JOB_FINISHED\"] - e[\"RUN_DONE\"]).total_seconds() for e in events_by_jobid.values() if \"RESTART_READY\" not in e]\n",
    "    tb_total = [(e[\"JOB_FINISHED\"] - e[\"READY\"]).total_seconds() for e in events_by_jobid.values() if \"RESTART_READY\" not in e]\n",
    "    return pd.DataFrame({\"Stage In\": tb_stagein, \"Run Delay\": tb_run_delay, \"Run\": tb_run_time, \"Stage Out\": tb_stageout, \"Total\": tb_total})\n",
    "    \n",
    "def balsam_pipeline_df(tag_set):\n",
    "    job_ids = []\n",
    "    for d in tag_set:\n",
    "        job_ids.extend(j.id for j in Job.objects.filter(tags=d, state=\"JOB_FINISHED\"))\n",
    "    \n",
    "    events_by_jobid = defaultdict(dict)\n",
    "    qs = EventLog.objects.filter(job_id=job_ids)\n",
    "    for event in qs:\n",
    "        events_by_jobid[event.job_id][event.to_state] = event.timestamp\n",
    "        \n",
    "    tb_stagein = [(e[\"STAGED_IN\"] - e[\"READY\"]).total_seconds() for e in events_by_jobid.values() if \"RESTART_READY\" not in e]\n",
    "    tb_run_delay = [(e[\"RUNNING\"] - e[\"STAGED_IN\"]).total_seconds() for e in events_by_jobid.values() if \"RESTART_READY\" not in e]\n",
    "    tb_run_time = [(e[\"RUN_DONE\"] - e[\"RUNNING\"]).total_seconds() for e in events_by_jobid.values() if \"RESTART_READY\" not in e]\n",
    "    tb_stageout = [(e[\"JOB_FINISHED\"] - e[\"RUN_DONE\"]).total_seconds() for e in events_by_jobid.values() if \"RESTART_READY\" not in e]\n",
    "    tb_total = [(e[\"JOB_FINISHED\"] - e[\"READY\"]).total_seconds() for e in events_by_jobid.values() if \"RESTART_READY\" not in e]\n",
    "    return pd.DataFrame({\"Stage In \": tb_stagein, \"Run Delay\": tb_run_delay, \"Run\": tb_run_time, \"Stage Out\": tb_stageout, \"Total\": tb_total})\n",
    "\n",
    "def balsam_throughput_by_nodes(tag_set, trim_head=0, trim_tail=30):\n",
    "    result = {}\n",
    "    t0 = {}\n",
    "    for tags in tag_set:\n",
    "        num_nodes = int(tags[\"num_nodes\"])\n",
    "        ids = [job.id for job in Job.objects.filter(tags=tags)]\n",
    "        qs = EventLog.objects.filter(job_id=ids)\n",
    "        t0[num_nodes] = qs.filter(to_state=\"READY\").order_by(EventOrdering.timestamp)[0].timestamp\n",
    "        result[num_nodes] = throughput_report(qs, to_state=\"JOB_FINISHED\")\n",
    "        \n",
    "    for num_nodes in result:\n",
    "        times, counts = result[num_nodes]\n",
    "        t0n = t0[num_nodes]\n",
    "        times = [(t - t0n).total_seconds() for t in times]\n",
    "        times.insert(0, 0.0)\n",
    "        counts = [0] + counts\n",
    "        if trim_tail:\n",
    "            counts = counts[trim_head:-trim_tail]\n",
    "            times = times[trim_head:-trim_tail]\n",
    "        result[num_nodes] = (times, counts)\n",
    "    return result\n",
    "\n",
    "def avg_jobs_per_min(times, counts):\n",
    "    return 60 * (max(counts) - min(counts)) / (max(times) - min(times))"
   ]
  },
  {
   "cell_type": "code",
   "execution_count": 163,
   "metadata": {},
   "outputs": [],
   "source": [
    "jqs = Job.objects.filter(state=\"JOB_FINISHED\", tags= {\"size\": \"L\", \"num_nodes\": \"32\", \"experiment\": \"eig-scaling-theta4\", \"job_source\": \"aps_dtn\"})\n",
    "qs = EventLog.objects.filter(job_id=[j.id for j in jqs])\n",
    "util_t, util_c = utilization_report(qs)"
   ]
  },
  {
   "cell_type": "code",
   "execution_count": 106,
   "metadata": {
    "scrolled": true
   },
   "outputs": [
    {
     "data": {
      "text/plain": [
       "[<matplotlib.lines.Line2D at 0x124b35700>]"
      ]
     },
     "execution_count": 106,
     "metadata": {},
     "output_type": "execute_result"
    },
    {
     "data": {
      "image/png": "[encoded data removed]",
      "text/plain": [
       "<Figure size 432x288 with 1 Axes>"
      ]
     },
     "metadata": {
      "needs_background": "light"
     },
     "output_type": "display_data"
    }
   ],
   "source": [
    "plt.step(util_t, util_c, where=\"post\")"
   ]
  },
  {
   "cell_type": "code",
   "execution_count": 107,
   "metadata": {},
   "outputs": [
    {
     "data": {
      "text/plain": [
       "[<matplotlib.lines.Line2D at 0x1265bafa0>]"
      ]
     },
     "execution_count": 107,
     "metadata": {},
     "output_type": "execute_result"
    },
    {
     "data": {
      "image/png": "[encoded data removed]",
      "text/plain": [
       "<Figure size 432x288 with 1 Axes>"
      ]
     },
     "metadata": {
      "needs_background": "light"
     },
     "output_type": "display_data"
    }
   ],
   "source": [
    "jqs = Job.objects.filter(state=\"JOB_FINISHED\", tags= {\"size\": \"L\", \"num_nodes\": \"32\", \"experiment\": \"eig-scaling-cori1\", \"job_source\": \"aps_dtn\"})\n",
    "qs = EventLog.objects.filter(job_id=[j.id for j in jqs])\n",
    "util_t, util_c = utilization_report(qs)\n",
    "plt.step(util_t, util_c, where=\"post\")"
   ]
  },
  {
   "cell_type": "code",
   "execution_count": 28,
   "metadata": {},
   "outputs": [
    {
     "name": "stdout",
     "output_type": "stream",
     "text": [
      "Cori 4s 6.612423701706358\n",
      "Cori 16l 7.90475915007311\n",
      "Cori 8s 14.471354568313346\n",
      "Cori 4c 3.0969362092666697\n",
      "Cori 8c 6.469196596943822\n",
      "Cori 32s 32.21106772286957\n",
      "Cori 32c 18.77561847561521\n",
      "Cori 32l 13.739098296824809\n",
      "Cori 32s-run2 37.425370361674176\n",
      "Cori 16s 20.41754373690643\n",
      "Cori 4l 1.8675882862092437\n",
      "Cori 8l 4.5883674096549765\n",
      "Cori 16c 9.708300395379421\n"
     ]
    },
    {
     "data": {
      "image/png": "[encoded data removed]",
      "text/plain": [
       "<Figure size 432x288 with 1 Axes>"
      ]
     },
     "metadata": {
      "needs_background": "light"
     },
     "output_type": "display_data"
    },
    {
     "data": {
      "image/png": "[encoded data removed]",
      "text/plain": [
       "<Figure size 432x288 with 1 Axes>"
      ]
     },
     "metadata": {
      "needs_background": "light"
     },
     "output_type": "display_data"
    },
    {
     "data": {
      "image/png": "[encoded data removed]",
      "text/plain": [
       "<Figure size 432x288 with 1 Axes>"
      ]
     },
     "metadata": {
      "needs_background": "light"
     },
     "output_type": "display_data"
    },
    {
     "data": {
      "image/png": "[encoded data removed]",
      "text/plain": [
       "<Figure size 432x288 with 1 Axes>"
      ]
     },
     "metadata": {
      "needs_background": "light"
     },
     "output_type": "display_data"
    },
    {
     "data": {
      "image/png": "[encoded data removed]",
      "text/plain": [
       "<Figure size 432x288 with 1 Axes>"
      ]
     },
     "metadata": {
      "needs_background": "light"
     },
     "output_type": "display_data"
    },
    {
     "data": {
      "image/png": "[encoded data removed]",
      "text/plain": [
       "<Figure size 432x288 with 1 Axes>"
      ]
     },
     "metadata": {
      "needs_background": "light"
     },
     "output_type": "display_data"
    },
    {
     "data": {
      "image/png": "[encoded data removed]",
      "text/plain": [
       "<Figure size 432x288 with 1 Axes>"
      ]
     },
     "metadata": {
      "needs_background": "light"
     },
     "output_type": "display_data"
    },
    {
     "data": {
      "image/png": "[encoded data removed]",
      "text/plain": [
       "<Figure size 432x288 with 1 Axes>"
      ]
     },
     "metadata": {
      "needs_background": "light"
     },
     "output_type": "display_data"
    },
    {
     "data": {
      "image/png": "[encoded data removed]",
      "text/plain": [
       "<Figure size 432x288 with 1 Axes>"
      ]
     },
     "metadata": {
      "needs_background": "light"
     },
     "output_type": "display_data"
    },
    {
     "data": {
      "image/png": "[encoded data removed]",
      "text/plain": [
       "<Figure size 432x288 with 1 Axes>"
      ]
     },
     "metadata": {
      "needs_background": "light"
     },
     "output_type": "display_data"
    },
    {
     "data": {
      "image/png": "[encoded data removed]",
      "text/plain": [
       "<Figure size 432x288 with 1 Axes>"
      ]
     },
     "metadata": {
      "needs_background": "light"
     },
     "output_type": "display_data"
    },
    {
     "data": {
      "image/png": "[encoded data removed]",
      "text/plain": [
       "<Figure size 432x288 with 1 Axes>"
      ]
     },
     "metadata": {
      "needs_background": "light"
     },
     "output_type": "display_data"
    },
    {
     "data": {
      "image/png": "[encoded data removed]",
      "text/plain": [
       "<Figure size 432x288 with 1 Axes>"
      ]
     },
     "metadata": {
      "needs_background": "light"
     },
     "output_type": "display_data"
    }
   ],
   "source": [
    "for key, dat in copied_out_times_cori.items():\n",
    "    times = list(dat.values())\n",
    "    t0 = min(times)\n",
    "    times = sorted([(t-t0).total_seconds() for t in times])\n",
    "    counts = list(range(1, len(times)+1))\n",
    "    times = times[1:-8]\n",
    "    counts = counts[1:-8]\n",
    "    fig, ax = plt.subplots()\n",
    "    ax.step(times, counts, where=\"post\")\n",
    "    ax.set_title(key)\n",
    "    print(\"Cori\", key, avg_jobs_per_min(times, counts))"
   ]
  },
  {
   "cell_type": "code",
   "execution_count": 29,
   "metadata": {},
   "outputs": [
    {
     "name": "stdout",
     "output_type": "stream",
     "text": [
      "4 6.106290483996444\n",
      "8 11.397119449291187\n",
      "16 22.93833831534746\n",
      "32 48.16357783769716\n"
     ]
    },
    {
     "data": {
      "image/png": "[encoded data removed]",
      "text/plain": [
       "<Figure size 432x288 with 1 Axes>"
      ]
     },
     "metadata": {
      "needs_background": "light"
     },
     "output_type": "display_data"
    }
   ],
   "source": [
    "dat = balsam_throughput_by_nodes(tag_sets[\"S\"], trim_head=5, trim_tail=30)\n",
    "for num_nodes, (times, counts) in sorted(dat.items()):\n",
    "    plt.step(times, counts, label=str(num_nodes), where=\"post\")\n",
    "    tgrid = np.linspace(0, max(times))\n",
    "    ideal = num_nodes * tgrid / 45.0\n",
    "    plt.plot(tgrid, ideal, 'k--')\n",
    "    print(num_nodes, avg_jobs_per_min(times, counts))"
   ]
  },
  {
   "cell_type": "code",
   "execution_count": 30,
   "metadata": {},
   "outputs": [
    {
     "name": "stdout",
     "output_type": "stream",
     "text": [
      "4 4.4718596535666375\n",
      "8 7.504950975783988\n",
      "16 12.394428549365472\n",
      "32 30.548068734464582\n"
     ]
    },
    {
     "data": {
      "image/png": "[encoded data removed]",
      "text/plain": [
       "<Figure size 432x288 with 1 Axes>"
      ]
     },
     "metadata": {
      "needs_background": "light"
     },
     "output_type": "display_data"
    }
   ],
   "source": [
    "dat = balsam_throughput_by_nodes(tag_sets[\"C\"], trim_head=1, trim_tail=19)\n",
    "for num_nodes, (times, counts) in sorted(dat.items()):\n",
    "    plt.step(times, counts, label=str(num_nodes), where=\"post\")\n",
    "    tgrid = np.linspace(0, max(times))\n",
    "    ideal = num_nodes * tgrid / 45.0\n",
    "    plt.plot(tgrid, ideal, 'k--')\n",
    "    print(num_nodes, avg_jobs_per_min(times, counts))"
   ]
  },
  {
   "cell_type": "code",
   "execution_count": 164,
   "metadata": {},
   "outputs": [],
   "source": [
    "dat = balsam_throughput_by_nodes(tag_sets[\"S\"], trim_tail=30)\n",
    "thru_balsamS = [avg_jobs_per_min(*dat[k]) for k in labels ]\n",
    "dat = balsam_throughput_by_nodes(tag_sets[\"L\"], trim_head=1, trim_tail=12)\n",
    "thru_balsamL = [avg_jobs_per_min(*dat[k]) for k in labels ]\n",
    "dat = balsam_throughput_by_nodes(tag_sets[\"C\"], trim_head=1, trim_tail=19)\n",
    "thru_balsamC = [avg_jobs_per_min(*dat[k]) for k in labels ]"
   ]
  },
  {
   "cell_type": "code",
   "execution_count": 165,
   "metadata": {},
   "outputs": [],
   "source": [
    "sizes = [\"S\", \"L\", \"C\"]\n",
    "ncounts = [4,8,16,32]\n",
    "tag_sets_cori = {\n",
    "    size: [\n",
    "        {\"size\": size, \"num_nodes\": str(nnodes), \"experiment\": \"eig-scaling-cori1\"}\n",
    "        for nnodes in ncounts\n",
    "    ]\n",
    "    for size in sizes\n",
    "}\n",
    "cori_eig_scaling = {}\n",
    "for size, tag_set in tag_sets_cori.items():\n",
    "    dat = balsam_throughput_by_nodes(tag_set, trim_head=1, trim_tail=5)\n",
    "    cori_eig_scaling[size] = dat"
   ]
  },
  {
   "cell_type": "code",
   "execution_count": 166,
   "metadata": {},
   "outputs": [
    {
     "name": "stdout",
     "output_type": "stream",
     "text": [
      "4 15.971348456203511\n",
      "8 32.257454578947836\n",
      "16 59.55642243289059\n",
      "32 111.32833940870655\n",
      "4 2.3565307819369745\n",
      "8 4.623033944527026\n",
      "16 7.985674952442637\n",
      "32 18.720201891852057\n",
      "4 3.605329821348779\n",
      "8 7.41700211195057\n",
      "16 15.211644683023128\n",
      "32 28.50955320640584\n"
     ]
    },
    {
     "data": {
      "image/png": "[encoded data removed]",
      "text/plain": [
       "<Figure size 864x288 with 3 Axes>"
      ]
     },
     "metadata": {
      "needs_background": "light"
     },
     "output_type": "display_data"
    }
   ],
   "source": [
    "fig, axes = plt.subplots(ncols=3, sharey=True, figsize=(12,4))\n",
    "cori_eig_thru = {}\n",
    "for ax, (size, dat) in zip(axes, cori_eig_scaling.items()):\n",
    "    tag_set = tag_sets_cori[size]\n",
    "    ax.set_title(size)\n",
    "    cori_eig_thru[size] = []\n",
    "    for num_nodes, (times, counts) in sorted(dat.items()):  \n",
    "        ax.step(times, counts, label=str(num_nodes), where=\"post\")\n",
    "        print(num_nodes, avg_jobs_per_min(times, counts))\n",
    "        cori_eig_thru[size].append(avg_jobs_per_min(times, counts))\n",
    "    ax.legend()"
   ]
  },
  {
   "cell_type": "code",
   "execution_count": 167,
   "metadata": {},
   "outputs": [
    {
     "data": {
      "image/png": "[encoded data removed]",
      "text/plain": [
       "<Figure size 501.84x216 with 6 Axes>"
      ]
     },
     "metadata": {
      "needs_background": "light"
     },
     "output_type": "display_data"
    }
   ],
   "source": [
    "fig, axes = plt.subplots(nrows=2, ncols=3, sharex=True, sharey=True, figsize=(FULLWIDTH,3.0))\n",
    "\n",
    "\n",
    "with plt.rc_context(rc={\n",
    "    \"legend.handlelength\":1.5, \n",
    "    #\"legend.labelspacing\":0.25, \n",
    "    #\"legend.borderpad\": 0.2, \n",
    "    \"legend.handletextpad\": 0.55, \n",
    "    #\"legend.columnspacing\": 1.1, \n",
    "    #\"legend.borderaxespad\": 1.0\n",
    "}):\n",
    "    multi_barplot(axes[0,0], labels, None, thru_clusterS, thru_balsamS, height_labels=None, fontsize=7)\n",
    "    axes[0,0].set_title('200 MB / dataset')\n",
    "    axes[0,0].set_ylim(0,50)\n",
    "    \n",
    "    multi_barplot(axes[0,1], labels, [\"Cobalt (Local)\", \"Relish (APS$\\\\leftrightarrow$Theta)\"], thru_clusterL, thru_balsamL, height_labels=None, fontsize=7)\n",
    "    axes[0,1].set_title('1.15 GB / dataset')\n",
    "    move_legend(axes[0,1], new_loc=(0.03, 0.62))\n",
    "    axes[0,1].set_ylim(0, 28)\n",
    "\n",
    "    multi_barplot(axes[0,2], labels, None, thru_clusterC, thru_balsamC, height_labels=None, fontsize=7)\n",
    "    axes[0,2].set_title('Combined dataset')\n",
    "    axes[0,2].set_ylim(0, 38)\n",
    "\n",
    "    multi_barplot(axes[1,0], labels, None, thru_cluster_coriS, cori_eig_thru[\"S\"], color_offset=2, fontsize=7)\n",
    "    axes[1,0].set_ylim(0, 130)\n",
    "\n",
    "    multi_barplot(axes[1,1], labels, [\"Slurm (Local)\", \"Relish (APS$\\\\leftrightarrow$Cori)\"], thru_cluster_coriL, cori_eig_thru[\"L\"], color_offset=2, fontsize=7)\n",
    "    move_legend(axes[1,1], new_loc=(0.03, 0.62))\n",
    "    axes[1,1].set_ylim(0, 24)\n",
    "\n",
    "    multi_barplot(axes[1,2], labels, None, thru_cluster_coriC, cori_eig_thru[\"C\"], color_offset=2, fontsize=7)\n",
    "    axes[1,2].set_ylim(0, 36)\n",
    "\n",
    "    for ax in axes.flatten():\n",
    "        ax.set_yscale('log')\n",
    "        ax.set_ylim(0.8, 220)\n",
    "\n",
    "axes[1,0].set_ylabel('Throughput (jobs / min)', y=1.0)\n",
    "for col in range(3):\n",
    "    axes[1,col].set_xlabel(\"Nodes\")\n",
    "    \n",
    "axes[0,2].text(3.45, 10.0, \"Theta\", rotation=90, fontsize=9)\n",
    "axes[1,2].text(3.45, 10.0, \"Cori\", rotation=90, fontsize=9)\n",
    "\n",
    "plt.savefig(\"figures/throughput_eig_log.pdf\", bbox_inches=\"tight\")"
   ]
  },
  {
   "cell_type": "code",
   "execution_count": 168,
   "metadata": {},
   "outputs": [],
   "source": [
    "def cluster_pipeline_df(size):\n",
    "    assert size in ['S', 'L', 'C']\n",
    "    cluster_submit_times = {k:v for run_dict in submit_times.values() for k,v in run_dict.items() }\n",
    "    cluster_start_times = {k:v for d in job_start_times.values() for k,v in d.items()}\n",
    "    cluster_stagein_times = {k:v for d in  copied_in_times.values() for k,v in d.items()}\n",
    "    cluster_done_times = {k:v for d in  app_done_times.values() for k,v in d.items()}\n",
    "    cluster_stageout_times = {k:v for d in  copied_out_times.values() for k,v in d.items()}\n",
    "    common_keys = [k for k in cluster_submit_times.keys() & cluster_stageout_times.keys()]\n",
    "    common_keys = [k for k in common_keys if size in k.as_posix()]\n",
    "    t_queueing = []\n",
    "    t_stagein = []\n",
    "    t_run = []\n",
    "    t_stageout = []\n",
    "    for k in common_keys:\n",
    "        t_queueing.append( cluster_start_times[k] - cluster_submit_times[k] )\n",
    "        t_stagein.append( cluster_stagein_times[k] - cluster_start_times[k] )\n",
    "        t_run.append( cluster_done_times[k] - cluster_stagein_times[k] )\n",
    "        t_stageout.append( cluster_stageout_times[k] - cluster_done_times[k] )\n",
    "\n",
    "    t_queueing = [t.total_seconds() for t in t_queueing]\n",
    "    t_stagein = [t.total_seconds() for t in t_stagein]\n",
    "    t_run = [t.total_seconds() for t in t_run]\n",
    "    t_stageout = [t.total_seconds() for t in t_stageout]\n",
    "    t_total = [(cluster_stageout_times[k] - cluster_submit_times[k]).total_seconds() for k in common_keys]\n",
    "    dat = pd.DataFrame({\"Queueing\": t_queueing, \"Stage In\": t_stagein, \"Run\": t_run, \"Stage Out\": t_stageout, \"Total\": t_total})\n",
    "    return dat\n",
    "\n",
    "def cluster_pipeline_df_cori(size):\n",
    "    assert size in ['S', 'L', 'C']\n",
    "    cluster_submit_times = {k:v for run_dict in submit_times_cori.values() for k,v in run_dict.items() }\n",
    "    cluster_start_times = {k:v for d in job_start_times_cori.values() for k,v in d.items()}\n",
    "    cluster_stagein_times = {k:v for d in  copied_in_times_cori.values() for k,v in d.items()}\n",
    "    cluster_done_times = {k:v for d in  app_done_times_cori.values() for k,v in d.items()}\n",
    "    cluster_stageout_times = {k:v for d in  copied_out_times_cori.values() for k,v in d.items()}\n",
    "    common_keys = [k for k in cluster_submit_times.keys() & cluster_stageout_times.keys()]\n",
    "    common_keys = [k for k in common_keys if size in k.as_posix()]\n",
    "    t_queueing = []\n",
    "    t_stagein = []\n",
    "    t_run = []\n",
    "    t_stageout = []\n",
    "    for k in common_keys:\n",
    "        t_queueing.append( cluster_start_times[k] - cluster_submit_times[k] )\n",
    "        t_stagein.append( cluster_stagein_times[k] - cluster_start_times[k] )\n",
    "        t_run.append( cluster_done_times[k] - cluster_stagein_times[k] )\n",
    "        t_stageout.append( cluster_stageout_times[k] - cluster_done_times[k] )\n",
    "\n",
    "    t_queueing = [t.total_seconds() for t in t_queueing]\n",
    "    t_stagein = [t.total_seconds() for t in t_stagein]\n",
    "    t_run = [t.total_seconds() for t in t_run]\n",
    "    t_stageout = [t.total_seconds() for t in t_stageout]\n",
    "    t_total = [(cluster_stageout_times[k] - cluster_submit_times[k]).total_seconds() for k in common_keys]\n",
    "    dat = pd.DataFrame({\"Queueing\": t_queueing, \"Stage In\": t_stagein, \"Run\": t_run, \"Stage Out\": t_stageout, \"Total\": t_total})\n",
    "    return dat"
   ]
  },
  {
   "cell_type": "code",
   "execution_count": 169,
   "metadata": {},
   "outputs": [],
   "source": [
    "tag_sets = {\n",
    "    \"L\": [\n",
    "      {\"size\": \"L\", \"num_nodes\": \"32\", \"experiment\": \"eig-scaling-theta1\", \"job_source\": \"aps_dtn\"},\n",
    "      {\"size\": \"L\", \"num_nodes\": \"8\", \"experiment\": \"eig-scaling-theta2\", \"job_source\": \"aps_dtn\"},\n",
    "      {\"size\": \"L\", \"num_nodes\": \"16\", \"experiment\": \"eig-scaling-theta2\", \"job_source\": \"aps_dtn\"},\n",
    "      {\"size\": \"L\", \"num_nodes\": \"4\", \"experiment\": \"eig-scaling-theta3\", \"job_source\": \"aps_dtn\"},\n",
    "    ],\n",
    "    \"S\": [\n",
    "      {\"size\": \"S\", \"num_nodes\": \"32\", \"experiment\": \"eig-scaling-theta1\", \"job_source\": \"aps_dtn\"},\n",
    "      {\"size\": \"S\", \"num_nodes\": \"4\", \"experiment\": \"eig-scaling-theta2\", \"job_source\": \"aps_dtn\"}, # or eig-scaling-theta3\n",
    "      {\"size\": \"S\", \"num_nodes\": \"16\", \"experiment\": \"eig-scaling-theta2\", \"job_source\": \"aps_dtn\"},\n",
    "      {\"size\": \"S\", \"num_nodes\": \"8\", \"experiment\": \"eig-scaling-theta2\", \"job_source\": \"aps_dtn\"},\n",
    "   ],\n",
    "    \"C\": [\n",
    "      {\"size\": \"C\", \"num_nodes\": \"4\", \"experiment\": \"eig-scaling-theta3\", \"job_source\": \"aps_dtn\"},\n",
    "      {\"size\": \"C\", \"num_nodes\": \"16\", \"experiment\": \"eig-scaling-theta2\", \"job_source\": \"aps_dtn\"},\n",
    "      {\"size\": \"C\", \"num_nodes\": \"32\", \"experiment\": \"eig-scaling-theta1\", \"job_source\": \"aps_dtn\"},\n",
    "      {\"size\": \"C\", \"num_nodes\": \"8\", \"experiment\": \"eig-scaling-theta2\", \"job_source\": \"aps_dtn\"},\n",
    "   ]\n",
    "}\n",
    "\n",
    "dat_clusterS = cluster_pipeline_df(\"S\")\n",
    "dat_clusterL = cluster_pipeline_df(\"L\")\n",
    "dat_clusterC = cluster_pipeline_df(\"C\")\n",
    "\n",
    "dat_slurmS = cluster_pipeline_df_cori(\"S\")\n",
    "dat_slurmL = cluster_pipeline_df_cori(\"L\")\n",
    "dat_slurmC = cluster_pipeline_df_cori(\"C\")\n",
    "\n",
    "dat_balsamS = balsam_pipeline_df(tag_sets[\"S\"])\n",
    "dat_balsamL = balsam_pipeline_df(tag_sets[\"L\"])\n",
    "dat_balsamC = balsam_pipeline_df(tag_sets[\"C\"])\n",
    "dat_balsam_coriS = balsam_pipeline_df([{\"experiment\": \"eig-scaling-cori1\", \"size\": \"S\"}])"
   ]
  },
  {
   "cell_type": "code",
   "execution_count": 170,
   "metadata": {},
   "outputs": [],
   "source": [
    "dat_balsam_coriL = balsam_pipeline_df([{\"experiment\": \"eig-scaling-cori1\", \"size\": \"L\"}])\n",
    "dat_balsam_coriC = balsam_pipeline_df([{\"experiment\": \"eig-scaling-cori1\", \"size\": \"C\"}])"
   ]
  },
  {
   "cell_type": "code",
   "execution_count": 171,
   "metadata": {},
   "outputs": [],
   "source": [
    "dat_slurmS = cluster_pipeline_df_cori(\"S\")\n",
    "dat_slurmL = cluster_pipeline_df_cori(\"L\")\n",
    "dat_slurmC = cluster_pipeline_df_cori(\"C\")"
   ]
  },
  {
   "cell_type": "code",
   "execution_count": 172,
   "metadata": {
    "scrolled": true
   },
   "outputs": [
    {
     "data": {
      "image/png": "[encoded data removed]",
      "text/plain": [
       "<Figure size 246.24x201.6 with 2 Axes>"
      ]
     },
     "metadata": {
      "needs_background": "light"
     },
     "output_type": "display_data"
    }
   ],
   "source": [
    "fig, axes = plt.subplots(nrows=2, ncols=1, sharex=True, figsize=(COLWIDTH,2.8), gridspec_kw={\"wspace\": 0.025, \"hspace\": 0.05})\n",
    "\n",
    "#sns.kdeplot(data=dat, log_scale=True, fill=True, common_norm=False, gridsize=2000, bw_adjust=0.8, cut=2.0, ax=axes[0], legend=True)\n",
    "ax = sns.histplot(data=dat_clusterS, log_scale=True, fill=True, common_norm=False, ax=axes[0], legend=True, bins=50)\n",
    "\n",
    "with plt.rc_context(rc={\n",
    "    \"legend.handlelength\":1.5, \n",
    "    \"legend.labelspacing\":0.25, \n",
    "    \"legend.borderpad\": 0.2, \n",
    "    \"legend.handletextpad\": 0.55, \n",
    "    \"legend.columnspacing\": 1.1, \n",
    "    \"legend.borderaxespad\": 1.0\n",
    "}):\n",
    "    move_legend(axes[0], (0.12, 0.32))\n",
    "    sns.histplot(data=dat_balsamS, log_scale=True, fill=True, common_norm=False, ax=axes[1], legend=True, bins=20)\n",
    "    move_legend(axes[1], (0.12, 0.32))\n",
    "    \n",
    "axes[0].set_title(\"Batch Queueing\", y=0.85, x=0.82, pad=0)\n",
    "axes[1].set_title(\"Relish\", y=0.85, x=0.82, pad=0)\n",
    "axes[1].set_xlabel(\"Time (seconds)\")\n",
    "axes[0].set_ylabel(\"Job Count\")\n",
    "axes[1].set_ylabel(\"Job Count\")\n",
    "plt.savefig(\"figures/queue_vs_balsam_hist.pdf\", bbox_inches=\"tight\")\n",
    "#ax.set_xlim(0, 200)"
   ]
  },
  {
   "cell_type": "code",
   "execution_count": 117,
   "metadata": {},
   "outputs": [
    {
     "data": {
      "text/plain": [
       "Queueing      2.703736\n",
       "Stage In      0.374344\n",
       "Run          11.787164\n",
       "Stage Out     0.037271\n",
       "Total        15.041308\n",
       "dtype: float64"
      ]
     },
     "execution_count": 117,
     "metadata": {},
     "output_type": "execute_result"
    }
   ],
   "source": [
    "dat_slurmS.median()\n"
   ]
  },
  {
   "cell_type": "code",
   "execution_count": 173,
   "metadata": {
    "scrolled": true
   },
   "outputs": [
    {
     "data": {
      "image/png": "[encoded data removed]",
      "text/plain": [
       "<Figure size 246.24x302.4 with 3 Axes>"
      ]
     },
     "metadata": {
      "needs_background": "light"
     },
     "output_type": "display_data"
    }
   ],
   "source": [
    "fig, axes = plt.subplots(nrows=3, ncols=1, sharex=True, figsize=(COLWIDTH,4.2), gridspec_kw={\"wspace\": 0.025, \"hspace\": 0.08})\n",
    "\n",
    "#sns.kdeplot(data=dat, log_scale=True, fill=True, common_norm=False, gridsize=2000, bw_adjust=0.8, cut=2.0, ax=axes[0], legend=True)\n",
    "ax = sns.histplot(data=dat_clusterS, log_scale=True, fill=True, common_norm=False, ax=axes[0], legend=True, bins=50)\n",
    "\n",
    "switched_palette = sns.color_palette()[:5]\n",
    "switched_palette[1], switched_palette[0] = switched_palette[0], switched_palette[1]\n",
    "\n",
    "with plt.rc_context(rc={\n",
    "    \"legend.handlelength\":1.5, \n",
    "    \"legend.labelspacing\":0.25, \n",
    "    \"legend.borderpad\": 0.2, \n",
    "    \"legend.handletextpad\": 0.55, \n",
    "    \"legend.columnspacing\": 1.1, \n",
    "    \"legend.borderaxespad\": 1.0,\n",
    "}):\n",
    "    move_legend(axes[0], (0.12, 0.32), ncol=1)\n",
    "    \n",
    "    sns.histplot(data=dat_slurmS, log_scale=True, fill=True, common_norm=False, ax=axes[1], legend=True, bins=40)\n",
    "    move_legend(axes[1], (0.7, 0.07), ncol=1)\n",
    "    #move_legend(axes[1], (0.12, 0.32), ncol=1)\n",
    "    \n",
    "    sns.histplot(data=dat_balsamS, log_scale=True, fill=True, common_norm=False, ax=axes[2], legend=True, bins=20, palette=switched_palette)\n",
    "    move_legend(axes[2], (0.12, 0.32), ncol=1)\n",
    "\n",
    "    \n",
    "axes[0].set_title(\"Cobalt (Theta)\", y=0.85, x=0.82, pad=0)\n",
    "axes[1].set_title(\"Slurm (Cori)\", y=0.85, x=0.82, pad=0)\n",
    "axes[2].set_title(\"Relish (Theta)\", y=0.85, x=0.82, pad=0)\n",
    "\n",
    "axes[2].set_xlabel(\"Time (seconds)\")\n",
    "axes[1].set_ylabel(\"Job Count\")\n",
    "axes[0].set_ylabel(None)\n",
    "axes[2].set_ylabel(None)\n",
    "#axes[1].set_ylabel(\"Job Count\")\n",
    "plt.savefig(\"figures/queue_vs_balsam_hist_with_cori.pdf\", bbox_inches=\"tight\")\n",
    "#ax.set_xlim(0, 200)"
   ]
  },
  {
   "cell_type": "code",
   "execution_count": 108,
   "metadata": {
    "scrolled": true
   },
   "outputs": [
    {
     "data": {
      "text/plain": [
       "Stage In     16.056427\n",
       "Run Delay     2.274045\n",
       "Run          16.790566\n",
       "Stage Out    11.560311\n",
       "Total        47.637630\n",
       "dtype: float64"
      ]
     },
     "execution_count": 108,
     "metadata": {},
     "output_type": "execute_result"
    }
   ],
   "source": [
    "\n",
    "#ax = sns.histplot(data=dat_slurmS, log_scale=True, fill=True, common_norm=False, legend=True, bins=20, palette=switched_palette)\n",
    "dat_balsamS.median()"
   ]
  },
  {
   "cell_type": "code",
   "execution_count": 50,
   "metadata": {},
   "outputs": [],
   "source": [
    "dat = defaultdict(dict)\n",
    "dat[\"Cluster\"][\"S\"] = dat_clusterS\n",
    "dat[\"Cluster\"][\"L\"] = dat_clusterL\n",
    "dat[\"Cluster\"][\"C\"] = dat_clusterC\n",
    "dat[\"Balsam\"][\"S\"] = dat_balsamS\n",
    "dat[\"Balsam\"][\"L\"] = dat_balsamL\n",
    "dat[\"Balsam\"][\"C\"] = dat_balsamC\n",
    "\n",
    "summary = defaultdict(lambda: defaultdict(dict))\n",
    "for exp in dat:\n",
    "    for size, df in dat[exp].items():\n",
    "        df[\"Overhead\"] = df[\"Total\"] - df[\"Run\"]\n",
    "        #print(exp, size)\n",
    "        for k in df:\n",
    "            mean, std, hi = df[k].mean(), df[k].std(), df[k].quantile(0.95)\n",
    "            summary[exp][size][k] = f\"{mean:.1f} pm {std:.1f} ({hi:.1f})\""
   ]
  },
  {
   "cell_type": "code",
   "execution_count": 59,
   "metadata": {
    "scrolled": true
   },
   "outputs": [
    {
     "name": "stdout",
     "output_type": "stream",
     "text": [
      "\\begin{tabular}{llll}\n",
      "\\toprule\n",
      "{} &                       S &                       L &                       C \\\\\n",
      "\\midrule\n",
      "Queueing  &  328.9 \\pm 249.2 \\ (782.8) &  198.7 \\pm 144.5 \\ (533.7) &  278.8 \\pm 199.6 \\ (709.5) \\\\\n",
      "Stage In  &        0.8 \\pm 0.8 \\ (2.3) &       5.5 \\pm 5.2 \\ (14.1) &       3.5 \\pm 4.9 \\ (15.3) \\\\\n",
      "Run       &      17.5 \\pm 2.0 \\ (21.7) &      89.3 \\pm 7.6 \\ (94.0) &     55.1 \\pm 35.5 \\ (89.8) \\\\\n",
      "Stage Out &        0.0 \\pm 0.1 \\ (0.1) &        0.0 \\pm 0.1 \\ (0.1) &        0.0 \\pm 0.0 \\ (0.0) \\\\\n",
      "Total     &  347.2 \\pm 248.6 \\ (799.8) &  293.5 \\pm 147.4 \\ (622.1) &  337.4 \\pm 204.1 \\ (767.4) \\\\\n",
      "Overhead  &  329.8 \\pm 249.2 \\ (783.2) &  204.2 \\pm 144.3 \\ (535.3) &  282.3 \\pm 199.6 \\ (714.5) \\\\\n",
      "\\bottomrule\n",
      "\\end{tabular}\n",
      "\n"
     ]
    },
    {
     "data": {
      "text/html": [
       "<div>\n",
       "<style scoped>\n",
       "    .dataframe tbody tr th:only-of-type {\n",
       "        vertical-align: middle;\n",
       "    }\n",
       "\n",
       "    .dataframe tbody tr th {\n",
       "        vertical-align: top;\n",
       "    }\n",
       "\n",
       "    .dataframe thead th {\n",
       "        text-align: right;\n",
       "    }\n",
       "</style>\n",
       "<table border=\"1\" class=\"dataframe\">\n",
       "  <thead>\n",
       "    <tr style=\"text-align: right;\">\n",
       "      <th></th>\n",
       "      <th>Queueing</th>\n",
       "      <th>Stage In</th>\n",
       "      <th>Run</th>\n",
       "      <th>Stage Out</th>\n",
       "      <th>Total</th>\n",
       "      <th>Overhead</th>\n",
       "    </tr>\n",
       "  </thead>\n",
       "  <tbody>\n",
       "    <tr>\n",
       "      <th>0</th>\n",
       "      <td>125.035960</td>\n",
       "      <td>2.081310</td>\n",
       "      <td>87.225523</td>\n",
       "      <td>0.041001</td>\n",
       "      <td>214.383794</td>\n",
       "      <td>127.158271</td>\n",
       "    </tr>\n",
       "    <tr>\n",
       "      <th>1</th>\n",
       "      <td>83.571511</td>\n",
       "      <td>21.063831</td>\n",
       "      <td>89.211869</td>\n",
       "      <td>0.012580</td>\n",
       "      <td>193.859791</td>\n",
       "      <td>104.647922</td>\n",
       "    </tr>\n",
       "    <tr>\n",
       "      <th>2</th>\n",
       "      <td>178.619385</td>\n",
       "      <td>0.216065</td>\n",
       "      <td>17.434815</td>\n",
       "      <td>0.012147</td>\n",
       "      <td>196.282412</td>\n",
       "      <td>178.847597</td>\n",
       "    </tr>\n",
       "    <tr>\n",
       "      <th>3</th>\n",
       "      <td>233.842031</td>\n",
       "      <td>10.408290</td>\n",
       "      <td>86.159183</td>\n",
       "      <td>0.012012</td>\n",
       "      <td>330.421516</td>\n",
       "      <td>244.262333</td>\n",
       "    </tr>\n",
       "    <tr>\n",
       "      <th>4</th>\n",
       "      <td>281.890513</td>\n",
       "      <td>0.415828</td>\n",
       "      <td>16.952124</td>\n",
       "      <td>0.018772</td>\n",
       "      <td>299.277237</td>\n",
       "      <td>282.325113</td>\n",
       "    </tr>\n",
       "    <tr>\n",
       "      <th>...</th>\n",
       "      <td>...</td>\n",
       "      <td>...</td>\n",
       "      <td>...</td>\n",
       "      <td>...</td>\n",
       "      <td>...</td>\n",
       "      <td>...</td>\n",
       "    </tr>\n",
       "    <tr>\n",
       "      <th>113</th>\n",
       "      <td>156.817387</td>\n",
       "      <td>2.127170</td>\n",
       "      <td>87.502474</td>\n",
       "      <td>0.013281</td>\n",
       "      <td>246.460312</td>\n",
       "      <td>158.957838</td>\n",
       "    </tr>\n",
       "    <tr>\n",
       "      <th>114</th>\n",
       "      <td>56.383830</td>\n",
       "      <td>1.483406</td>\n",
       "      <td>22.800142</td>\n",
       "      <td>0.011641</td>\n",
       "      <td>80.679019</td>\n",
       "      <td>57.878877</td>\n",
       "    </tr>\n",
       "    <tr>\n",
       "      <th>115</th>\n",
       "      <td>159.237473</td>\n",
       "      <td>0.675235</td>\n",
       "      <td>17.914345</td>\n",
       "      <td>0.011791</td>\n",
       "      <td>177.838844</td>\n",
       "      <td>159.924499</td>\n",
       "    </tr>\n",
       "    <tr>\n",
       "      <th>116</th>\n",
       "      <td>534.917412</td>\n",
       "      <td>4.384373</td>\n",
       "      <td>88.453615</td>\n",
       "      <td>0.012792</td>\n",
       "      <td>627.768192</td>\n",
       "      <td>539.314577</td>\n",
       "    </tr>\n",
       "    <tr>\n",
       "      <th>117</th>\n",
       "      <td>102.970736</td>\n",
       "      <td>3.905288</td>\n",
       "      <td>87.913109</td>\n",
       "      <td>0.046165</td>\n",
       "      <td>194.835298</td>\n",
       "      <td>106.922189</td>\n",
       "    </tr>\n",
       "  </tbody>\n",
       "</table>\n",
       "<p>118 rows × 6 columns</p>\n",
       "</div>"
      ],
      "text/plain": [
       "       Queueing   Stage In        Run  Stage Out       Total    Overhead\n",
       "0    125.035960   2.081310  87.225523   0.041001  214.383794  127.158271\n",
       "1     83.571511  21.063831  89.211869   0.012580  193.859791  104.647922\n",
       "2    178.619385   0.216065  17.434815   0.012147  196.282412  178.847597\n",
       "3    233.842031  10.408290  86.159183   0.012012  330.421516  244.262333\n",
       "4    281.890513   0.415828  16.952124   0.018772  299.277237  282.325113\n",
       "..          ...        ...        ...        ...         ...         ...\n",
       "113  156.817387   2.127170  87.502474   0.013281  246.460312  158.957838\n",
       "114   56.383830   1.483406  22.800142   0.011641   80.679019   57.878877\n",
       "115  159.237473   0.675235  17.914345   0.011791  177.838844  159.924499\n",
       "116  534.917412   4.384373  88.453615   0.012792  627.768192  539.314577\n",
       "117  102.970736   3.905288  87.913109   0.046165  194.835298  106.922189\n",
       "\n",
       "[118 rows x 6 columns]"
      ]
     },
     "execution_count": 59,
     "metadata": {},
     "output_type": "execute_result"
    }
   ],
   "source": [
    "s = pd.DataFrame(summary[\"Cluster\"]).to_latex()\n",
    "print(s.replace(\"pm\", \"\\pm\").replace(\"(\", \"\\ (\"))\n",
    "dat[\"Cluster\"][\"C\"]"
   ]
  },
  {
   "cell_type": "markdown",
   "metadata": {},
   "source": [
    "# Eig: backlog tests (APS->Theta)"
   ]
  },
  {
   "cell_type": "code",
   "execution_count": 121,
   "metadata": {},
   "outputs": [],
   "source": [
    "tags = {\"experiment\": \"eig-backlog-theta1\", \"job_source\": \"aps_dtn\"}\n",
    "finished_jobs = Job.objects.filter(tags=tags, state=\"JOB_FINISHED\")\n",
    "finished_ids = [j.id for j in finished_jobs]   \n",
    "events = EventLog.objects.filter(job_id=finished_ids)\n",
    "\n",
    "created_t, created_c = throughput_report(events, to_state=\"READY\")\n",
    "stagedin_t, stagedin_c = throughput_report(events, to_state=\"STAGED_IN\")\n",
    "done_t, done_c = throughput_report(events, to_state=\"RUN_DONE\")\n",
    "finish_t, finish_c = throughput_report(events, to_state=\"JOB_FINISHED\")\n",
    "backlog_t = sorted(created_t + finish_t)\n",
    "t0 = min(created_t)\n",
    "created_t = [(t - t0).total_seconds() / 60 for t in created_t]\n",
    "finish_t = [(t - t0).total_seconds() / 60 for t in finish_t]\n",
    "done_t = [(t - t0).total_seconds() / 60 for t in done_t]\n",
    "stagedin_t =  [(t - t0).total_seconds() / 60 for t in stagedin_t]\n",
    "\n",
    "created_t.extend(np.linspace(max(created_t), max(finish_t), num=50))\n",
    "stagedin_t.extend(np.linspace(max(created_t), max(finish_t), num=50))\n",
    "created_c.extend(max(created_c) for _ in range(50))\n",
    "stagedin_c.extend(max(stagedin_c) for _ in range(50))\n",
    "\n",
    "util_t, util_c = utilization_report(events, node_weighting=True)\n",
    "start_t = min(util_t) - timedelta(minutes=5)\n",
    "end_t = max(util_t) + timedelta(minutes=5)\n",
    "batchjobs = BatchJob.objects.filter(start_time_after=start_t, end_time_before=end_t)\n",
    "avail_t, avail_c = available_nodes(batchjobs)"
   ]
  },
  {
   "cell_type": "code",
   "execution_count": 122,
   "metadata": {},
   "outputs": [],
   "source": [
    "backlog_c = []\n",
    "for time_created, count_created in zip(created_t, created_c):\n",
    "    idx_finished = min((abs(time_finished-time_created), idx) for idx, time_finished in enumerate(finish_t))[1]\n",
    "    backlog_c.append(count_created - finish_c[idx_finished])"
   ]
  },
  {
   "cell_type": "code",
   "execution_count": 125,
   "metadata": {},
   "outputs": [
    {
     "data": {
      "image/png": "[encoded data removed]",
      "text/plain": [
       "<Figure size 246.24x216 with 2 Axes>"
      ]
     },
     "metadata": {
      "needs_background": "light"
     },
     "output_type": "display_data"
    }
   ],
   "source": [
    "fig, axes = plt.subplots(nrows=2, ncols=1, sharex=True, figsize=(COLWIDTH,3), gridspec_kw={\"wspace\": 0.025, \"hspace\": 0.09})\n",
    "\n",
    "for i in (0,1):\n",
    "    axes[i].axvspan(0, 15, color='g', alpha=0.2)\n",
    "    axes[i].axvspan(15, 30, color='y', alpha=0.2)\n",
    "    axes[i].axvspan(30, 54.5, color='r', alpha=0.2)\n",
    "\n",
    "axes[0].step(created_t, created_c, where=\"post\", label=\"Submitted\")\n",
    "axes[0].step(stagedin_t, stagedin_c, where=\"post\", label=\"Staged In\")\n",
    "axes[0].step(done_t, done_c, where=\"post\", label=\"Run Done\")\n",
    "#axes[0].step(finish_t, finish_c, where=\"post\", label=\"Staged Out\")\n",
    "\n",
    "axes[0].set_xlim(0, 80)\n",
    "axes[0].set_ylim(0, 3600)\n",
    "with plt.rc_context(rc={\n",
    "    \"legend.handlelength\":1.5, \n",
    "    \"legend.labelspacing\":0.1, \n",
    "    \"legend.borderpad\": 0.2, \n",
    "    \"legend.handletextpad\": 0.55, \n",
    "    \"legend.columnspacing\": 1.1, \n",
    "    \"legend.borderaxespad\": 0.4\n",
    "}):\n",
    "    axes[0].legend(loc=\"lower right\")\n",
    "axes[0].set_ylabel(\"Job Count\")\n",
    "axes[1].xaxis.set_minor_locator(MultipleLocator(10))\n",
    "\n",
    "axes[1].step([(t - t0).total_seconds() / 60 for t in util_t], util_c, where=\"post\")\n",
    "axes[1].step([(t - t0).total_seconds() / 60 for t in avail_t], avail_c, alpha=0.5, c='k', lw=3, where=\"post\")\n",
    "axes[1].set_xlabel(\"Elapsed Time (minutes)\")\n",
    "axes[1].set_ylabel(\"Node Count\")\n",
    "axes[1].set_ylim(0, 34)\n",
    "axes[1].set_yticks([8*i for i in range(5)])\n",
    "plt.savefig(\"figures/backlog.pdf\", bbox_inches=\"tight\")\n"
   ]
  },
  {
   "cell_type": "markdown",
   "metadata": {},
   "source": [
    "# IO Batching"
   ]
  },
  {
   "cell_type": "code",
   "execution_count": 411,
   "metadata": {},
   "outputs": [],
   "source": [
    "io_thru = defaultdict(dict)\n",
    "for bs in (8, 16,32,64,128):\n",
    "    for size in (\"S\", \"L\"):\n",
    "        jobs = Job.objects.filter(tags={\"experiment\": \"io-test2\", \"bs\": bs, \"size\": size}, state=\"JOB_FINISHED\")\n",
    "        job_ids = [j.id for j in jobs]\n",
    "        qs = EventLog.objects.filter(job_id=job_ids)\n",
    "        t0 = min([e.timestamp for e in EventLog.objects.filter(job_id=job_ids, from_state=\"CREATED\")])\n",
    "        times, counts = throughput_report(qs, to_state=\"STAGED_IN\")\n",
    "        tf = max(times)\n",
    "        c = max(counts)\n",
    "        assert c == 128\n",
    "        jps = c / (tf - t0).total_seconds()\n",
    "        io_thru[size][bs] = jps\n",
    "        \n",
    "jobs = Job.objects.filter(tags={\"experiment\": \"io-test3\", \"bs\": 16, \"size\": \"S\"}, state=\"JOB_FINISHED\")\n",
    "job_ids = [j.id for j in jobs]\n",
    "qs = EventLog.objects.filter(job_id=job_ids)\n",
    "t0 = min([e.timestamp for e in EventLog.objects.filter(job_id=job_ids, from_state=\"CREATED\")])\n",
    "times, counts = throughput_report(qs, to_state=\"STAGED_IN\")\n",
    "tf = max(times)\n",
    "c = max(counts)\n",
    "assert c == 128\n",
    "jps = c / (tf - t0).total_seconds()\n",
    "io_thru[\"S\"][16] = jps"
   ]
  },
  {
   "cell_type": "code",
   "execution_count": 414,
   "metadata": {},
   "outputs": [
    {
     "data": {
      "image/png": "[encoded data removed]",
      "text/plain": [
       "<Figure size 246.24x115.2 with 1 Axes>"
      ]
     },
     "metadata": {
      "needs_background": "light"
     },
     "output_type": "display_data"
    }
   ],
   "source": [
    "labels = [8, 16, 32, 64, 128]\n",
    "sizes = [\"S\", \"L\"]\n",
    "\n",
    "fig, ax = plt.subplots(figsize=(COLWIDTH, 1.6))\n",
    "dat_small = [60*io_thru[\"S\"][k] for k in labels]\n",
    "dat_large = [60*io_thru[\"L\"][k] for k in labels]\n",
    "\n",
    "with plt.rc_context({\"legend.handlelength\": 1}):\n",
    "    multi_barplot(ax, labels, [\"200 MB\", \"1.15 GB\"], dat_small, dat_large, height_labels=None)\n",
    "    ax.set_xlabel(\"Transfer Batch Size\")\n",
    "    ax.set_ylabel('Arrival Rate (jobs / min)')\n",
    "    ax.set_ylim(0,110)\n",
    "    plt.savefig(\"figures/transfer-batch.pdf\", bbox_inches=\"tight\")"
   ]
  },
  {
   "cell_type": "code",
   "execution_count": 154,
   "metadata": {},
   "outputs": [],
   "source": [
    "import json\n",
    "with open(\"data/globus-history2.json\") as fp:\n",
    "    globus_dat = json.load(fp)"
   ]
  },
  {
   "cell_type": "code",
   "execution_count": 156,
   "metadata": {},
   "outputs": [
    {
     "name": "stdout",
     "output_type": "stream",
     "text": [
      "('aps#lcfsys1', 'NERSC Cori') 68\n",
      "('aps#lcfsys1', 'alcf#dtn_theta') 213\n",
      "('aps#lcfsys1', 'OLCF DTN') 109\n",
      "('alsuser#data832', 'alcf#dtn_theta') 22\n",
      "('alsuser#data832', 'OLCF DTN') 19\n",
      "('alsuser#data832', 'NERSC Cori') 25\n",
      "('aps#lcfsys1', 'alcf#dtn_theta') 196.5 +/- 166.8 MB/sec min 35.534144 max 986.555984\n",
      "('aps#lcfsys1', 'OLCF DTN') 360.4 +/- 276.0 MB/sec min 23.894206 max 1169.505503\n",
      "('aps#lcfsys1', 'NERSC Cori') 311.4 +/- 210.4 MB/sec min 32.595445 max 802.451219\n",
      "('alsuser#data832', 'alcf#dtn_theta') 107.4 +/- 28.8 MB/sec min 37.680237 max 163.704751\n",
      "('alsuser#data832', 'OLCF DTN') 277.5 +/- 138.1 MB/sec min 80.62831 max 602.411666\n",
      "('alsuser#data832', 'NERSC Cori') 282.6 +/- 155.3 MB/sec min 89.528984 max 648.084369\n"
     ]
    },
    {
     "data": {
      "image/png": "[encoded data removed]",
      "text/plain": [
       "<Figure size 196.992x100.8 with 1 Axes>"
      ]
     },
     "metadata": {
      "needs_background": "light"
     },
     "output_type": "display_data"
    }
   ],
   "source": [
    "globus_tasks = globus_dat['DATA']\n",
    "done_transfers = [t for t in globus_tasks if t['status'] == 'SUCCEEDED' and t['bytes_transferred'] > 1e10]\n",
    "transfers =  defaultdict(list)\n",
    "for t in done_transfers:\n",
    "    key = (t[\"source_endpoint_display_name\"], t[\"destination_endpoint_display_name\"])\n",
    "    transfers[key].append(t[\"effective_bytes_per_second\"]/1e6)\n",
    "for key in transfers:\n",
    "    print(key, len(transfers[key]))\n",
    "keys = [\n",
    "    ('aps#lcfsys1', 'alcf#dtn_theta'),\n",
    "    ('aps#lcfsys1', 'OLCF DTN'),\n",
    "    ('aps#lcfsys1', 'NERSC Cori'),\n",
    "    \n",
    "    ('alsuser#data832', 'alcf#dtn_theta'),\n",
    "    ('alsuser#data832', 'OLCF DTN'),\n",
    "    ('alsuser#data832', 'NERSC Cori'),\n",
    "]\n",
    "labels = [\n",
    "    r\"APS $\\rightarrow$ ALCF\",\n",
    "    r\"APS $\\rightarrow$ OLCF\",\n",
    "    r\"APS $\\rightarrow$ NERSC\",\n",
    "    r\"ALS $\\rightarrow$ ALCF\",\n",
    "    r\"ALS $\\rightarrow$ OLCF\",\n",
    "    r\"ALS $\\rightarrow$ NERSC\",\n",
    "]\n",
    "for key in keys:\n",
    "    dat = np.array(transfers[key])\n",
    "    mean, std = dat.mean(), dat.std()\n",
    "    print(key, f\"{mean:.1f} +/- {std:.1f} MB/sec\", \"min\", dat.min(), \"max\", dat.max())# , len(dat))\n",
    "\n",
    "#mpl.use(\"pdf\")\n",
    "fig, ax = plt.subplots(figsize=(COLWIDTH*0.8, 1.4))\n",
    "sns.boxplot(data=[transfers[k] for k in keys], orient=\"h\", fliersize=0.0, whis=1.5, ax=ax)\n",
    "ax.set_yticklabels(labels)\n",
    "ax.set_xticks([0,250,500,750,1000,1250])\n",
    "ax.set_xlim(-20,1250)\n",
    "ax.xaxis.set_minor_locator(MultipleLocator(50))\n",
    "ax.set_xlabel(\"Effective Rate (MB/sec)\")\n",
    "plt.savefig(\"figures/globus.pdf\", bbox_inches=\"tight\")"
   ]
  },
  {
   "cell_type": "markdown",
   "metadata": {},
   "source": [
    "## Arrival Rate\n",
    "- Staging in for 128 jobs\n",
    "- Up to 3 concurrent Globus transfers\n",
    "- Varying # files per transfer task (batch size)\n",
    "- Syncing TransferTasks with API every 5 seconds\n",
    "- For 200 MB file, peak arrival rate is around 64 BS (12.8 GB batch)\n",
    "- For 1.1 GB file, peak arrival rate is around 16 BS (17.6 GB batch)\n",
    "- Latency ammortized by higher batch size\n",
    "- But, with higher batch size, concurrency drops:\n",
    "- only 2 concurrent transfers at BS 64; only 1 transfer at BS 128\n",
    "- And with higher batch size, higher per-job latency\n",
    "- Sweet spot around 15 GB batch for APS-->ALCF with 200 MB/sec effective transfer rate"
   ]
  },
  {
   "cell_type": "markdown",
   "metadata": {},
   "source": [
    "# XPCS Tests"
   ]
  },
  {
   "cell_type": "code",
   "execution_count": 93,
   "metadata": {},
   "outputs": [],
   "source": [
    "events_theta = EventLog.objects.filter(\n",
    "    job_id=[j.id for j in Job.objects.filter(tags={\"experiment\": \"xpcs-theta1\"}, state=\"JOB_FINISHED\")]\n",
    ")\n",
    "events_cori = EventLog.objects.filter(\n",
    "    job_id=[j.id for j in Job.objects.filter(tags={\"experiment\": \"xpcs-cori1\"}, state=\"JOB_FINISHED\")]\n",
    ")\n",
    "events_summit = EventLog.objects.filter(\n",
    "    job_id=[j.id for j in Job.objects.filter(tags={\"experiment\": \"xpcs-summit-test\"}, state=\"JOB_FINISHED\")]\n",
    ")"
   ]
  },
  {
   "cell_type": "code",
   "execution_count": 94,
   "metadata": {},
   "outputs": [],
   "source": [
    "thru_theta  = throughput_report(events_theta)\n",
    "thru_cori = throughput_report(events_cori)\n",
    "thru_summit = throughput_report(events_summit)"
   ]
  },
  {
   "cell_type": "code",
   "execution_count": 111,
   "metadata": {},
   "outputs": [
    {
     "data": {
      "text/plain": [
       "[<matplotlib.lines.Line2D at 0x12af2d520>]"
      ]
     },
     "execution_count": 111,
     "metadata": {},
     "output_type": "execute_result"
    },
    {
     "data": {
      "image/png": "[encoded data removed]",
      "text/plain": [
       "<Figure size 432x288 with 1 Axes>"
      ]
     },
     "metadata": {
      "needs_background": "light"
     },
     "output_type": "display_data"
    }
   ],
   "source": [
    "def elapsed_min(times):\n",
    "    return np.array([(t - min(times)).total_seconds() for t in times]) / 60\n",
    "\n",
    "plt.step(elapsed_min(thru_theta[0]), thru_theta[1], where=\"post\")"
   ]
  },
  {
   "cell_type": "code",
   "execution_count": 112,
   "metadata": {},
   "outputs": [
    {
     "data": {
      "text/plain": [
       "[<matplotlib.lines.Line2D at 0x12b4fde80>]"
      ]
     },
     "execution_count": 112,
     "metadata": {},
     "output_type": "execute_result"
    },
    {
     "data": {
      "image/png": "[encoded data removed]",
      "text/plain": [
       "<Figure size 432x288 with 1 Axes>"
      ]
     },
     "metadata": {
      "needs_background": "light"
     },
     "output_type": "display_data"
    }
   ],
   "source": [
    "plt.step(elapsed_min(thru_summit[0]), thru_summit[1], where=\"post\")"
   ]
  },
  {
   "cell_type": "code",
   "execution_count": 122,
   "metadata": {},
   "outputs": [
    {
     "data": {
      "text/plain": [
       "(0.0, 180.0)"
      ]
     },
     "execution_count": 122,
     "metadata": {},
     "output_type": "execute_result"
    },
    {
     "data": {
      "image/png": "[encoded data removed]",
      "text/plain": [
       "<Figure size 432x288 with 1 Axes>"
      ]
     },
     "metadata": {
      "needs_background": "light"
     },
     "output_type": "display_data"
    }
   ],
   "source": [
    "plt.step(elapsed_min(thru_cori[0]), thru_cori[1], where=\"post\")\n",
    "plt.gca().set_xlim(0, 180)"
   ]
  },
  {
   "cell_type": "code",
   "execution_count": 127,
   "metadata": {},
   "outputs": [
    {
     "name": "stdout",
     "output_type": "stream",
     "text": [
      "('APS', 'Theta') 136.752435 143.205893\n",
      "('APS', 'Cori') 85.734448 110.502407\n",
      "('APS', 'Summit') 129.561581 140.836874\n",
      "('ALS', 'Theta') 143.53784 150.113213\n",
      "('ALS', 'Cori') 95.034248 142.274033\n",
      "('ALS', 'Summit') 134.487583 143.167568\n"
     ]
    }
   ],
   "source": [
    "#    6       xpcs.EigenCorr   thetalogin4:/gpfs/mira-home/msalim/balsam/test-sites/test\n",
    "#   14       xpcs.EigenCorr   cori03:/global/project/projectdirs/m3676/msalim/b2sites/test\n",
    "#    7       xpcs.EigenCorr   thetalogin4:/lus/theta-fs0/projects/datascience/msalim/b2sites/test\n",
    "#   19       xpcs.EigenCorr   thetalogin6:/lus/theta-fs0/projects/WorkExpFacil/msalim/sc21\n",
    "#   25       xpcs.EigenCorr   login2:/gpfs/alpine/csc435/proj-shared/msalim/testsite\n",
    "#   22       xpcs.EigenCorr   login4:/gpfs/alpine/csc435/proj-shared/msalim/sc21-site\n",
    "#   27       xpcs.EigenCorr   thetalogin5:/lus/theta-fs0/projects/WorkExpFacil/msalim/io-test\n",
    "\n",
    "def experiment_iter(exp_tag):\n",
    "    app_ids = [19, 14, 22] # theta, cori, summit\n",
    "    #app_to_sitename = {19: \"Theta\", 14: \"Cori\", 22: \"Summit\"}\n",
    "    app_to_sitename = {19: \"Theta\", 22: \"Summit\", 14: \"Cori\"}\n",
    "    sourcemap = {\"aps_dtn\": \"APS\", \"als_dtn\": \"ALS\"}\n",
    "    result = {}\n",
    "    for source in [\"aps_dtn\", \"als_dtn\"]:\n",
    "        for app_id in app_ids:\n",
    "            job_qs = Job.objects.filter(app_id=app_id, tags={\"experiment\": exp_tag, \"job_source\": source}, state=\"JOB_FINISHED\")\n",
    "            if job_qs.count() > 0:\n",
    "                yield (sourcemap[source], app_to_sitename[app_id]), job_qs\n",
    "\n",
    "latencies = {}\n",
    "for key, job_qs in experiment_iter(\"latency1\"):\n",
    "    df = job_qs_to_pipeline_df(job_qs)\n",
    "    print(key, df[\"Total\"].min(), df[\"Total\"].max())\n",
    "    latencies[key] = {}\n",
    "    for stage in df.keys():\n",
    "        latencies[key][stage] = df[stage].median()"
   ]
  },
  {
   "cell_type": "code",
   "execution_count": 10,
   "metadata": {},
   "outputs": [
    {
     "data": {
      "image/png": "[encoded data removed]",
      "text/plain": [
       "<Figure size 246.24x144 with 1 Axes>"
      ]
     },
     "metadata": {
      "needs_background": "light"
     },
     "output_type": "display_data"
    }
   ],
   "source": [
    "def stacked_bars(data, labels, ax, width=0.5):\n",
    "    keys = list(data.keys())\n",
    "    x = np.arange(len(keys))\n",
    "    bottoms = np.zeros(x.shape)\n",
    "    for label in labels:\n",
    "        y = np.array([data[k][label] for k in keys])\n",
    "        ax.bar(x, y, width, label=label, bottom=bottoms)\n",
    "        bottoms += y\n",
    "    ax.set_xticks(x)\n",
    "\n",
    "fig, ax = plt.subplots(figsize=(COLWIDTH, 2.0))\n",
    "stages = [\"Stage In\", \"Run Delay\", \"Run\", \"Stage Out\"]\n",
    "\n",
    "ordered_keys = [(\"APS\", \"Theta\"), (\"APS\", \"Summit\"), (\"APS\", \"Cori\"), (\"ALS\", \"Theta\"), (\"ALS\", \"Summit\"), (\"ALS\", \"Cori\")]\n",
    "latencies = {k: latencies[k] for k in ordered_keys}\n",
    "stacked_bars(latencies, stages, ax)\n",
    "\n",
    "ax.set_xticklabels([f\"{k[0]}$\\\\rightarrow$\\n{k[1]}\" for k in ordered_keys])\n",
    "ax.set_ylim(0,170)\n",
    "ax.set_yticks([0,25,50,75,100,125,150])\n",
    "ax.set_xlabel(\"Light Source / Supercomputer\")\n",
    "ax.set_ylabel(\"Median Latency (seconds)\")\n",
    "with plt.rc_context(rc={\n",
    "    \"legend.handlelength\":1.0, \n",
    "    \"legend.labelspacing\":0.1, \n",
    "    \"legend.borderpad\": 0.2, \n",
    "    \"legend.handletextpad\": 0.55, \n",
    "    \"legend.columnspacing\": 1.1, \n",
    "    \"legend.borderaxespad\": 0.2\n",
    "}):\n",
    "    plt.legend(bbox_to_anchor=(0, 1), loc='upper left', ncol=4)\n",
    "    plt.savefig(\"figures/latency.pdf\", bbox_inches=\"tight\")"
   ]
  },
  {
   "cell_type": "code",
   "execution_count": 131,
   "metadata": {},
   "outputs": [
    {
     "name": "stdout",
     "output_type": "stream",
     "text": [
      "('APS', 'Theta') run delay %: 101.9793135 1.8576604945304394\n",
      "('APS', 'Cori') run delay %: 50.762199 2.6337656884630394\n",
      "('APS', 'Summit') run delay %: 107.47037 1.3718027541543265\n",
      "('ALS', 'Theta') run delay %: 101.9760955 1.5776836305640158\n",
      "('ALS', 'Cori') run delay %: 66.933642 2.383263721838783\n",
      "('ALS', 'Summit') run delay %: 107.981906 1.5662130119476139\n"
     ]
    }
   ],
   "source": [
    "for key in latencies: \n",
    "    #ovh = sum(latencies[key][k] for k in [\"Stage In\", \"Run Delay\", \"Stage Out\"])\n",
    "    print(key, \"run delay %:\", latencies[key][\"Run\"], 100.0*latencies[key][\"Run Delay\"] / latencies[key][\"Total\"])"
   ]
  },
  {
   "cell_type": "code",
   "execution_count": 132,
   "metadata": {},
   "outputs": [
    {
     "name": "stdout",
     "output_type": "stream",
     "text": [
      "APS Theta 240\n",
      "APS Cori 489\n",
      "APS Summit 320\n",
      "ALS Theta 176\n",
      "ALS Cori 396\n",
      "ALS Summit 293\n",
      "APS+ALS Theta 97\n",
      "APS+ALS Cori 125\n",
      "APS+ALS Summit 113\n",
      "APS+ALS Theta 99\n",
      "APS+ALS Cori 91\n",
      "APS+ALS Summit 105\n"
     ]
    }
   ],
   "source": [
    "tags = {\"APS\": \"aps-steady1\", \"ALS\": \"als-steady1\", \"APS+ALS\": \"both-steady1\"}\n",
    "steady_throughput = {}\n",
    "for source, exp_tag in tags.items():\n",
    "    for key, job_qs in experiment_iter(exp_tag):\n",
    "        print(source, key[1], job_qs.count())\n",
    "        qs = EventLog.objects.filter(job_id=[j.id for j in job_qs])\n",
    "        times, counts = throughput_report(qs, to_state=\"JOB_FINISHED\")\n",
    "        entry = (source, key[1])\n",
    "        if entry in steady_throughput:\n",
    "            steady_throughput[entry].extend(times)\n",
    "        else:\n",
    "            steady_throughput[entry] = times"
   ]
  },
  {
   "cell_type": "code",
   "execution_count": 133,
   "metadata": {},
   "outputs": [
    {
     "name": "stdout",
     "output_type": "stream",
     "text": [
      "APS Theta 240\n",
      "APS Cori 489\n",
      "APS Summit 320\n",
      "ALS Theta 176\n",
      "ALS Cori 396\n",
      "ALS Summit 293\n",
      "APS+ALS Theta 97\n",
      "APS+ALS Cori 125\n",
      "APS+ALS Summit 113\n",
      "APS+ALS Theta 99\n",
      "APS+ALS Cori 91\n",
      "APS+ALS Summit 105\n"
     ]
    }
   ],
   "source": [
    "steady_preprocessed = {}\n",
    "steady_done = {}\n",
    "\n",
    "for source, exp_tag in tags.items():\n",
    "    for key, job_qs in experiment_iter(exp_tag):\n",
    "        print(source, key[1], job_qs.count())\n",
    "        qs = EventLog.objects.filter(job_id=[j.id for j in job_qs])\n",
    "        times, counts = throughput_report(qs, to_state=\"PREPROCESSED\")\n",
    "        entry = (source, key[1])\n",
    "        if entry in steady_preprocessed:\n",
    "            steady_preprocessed[entry].extend(times)\n",
    "        else:\n",
    "            steady_preprocessed[entry] = times\n",
    "            \n",
    "        times, counts = throughput_report(qs, to_state=\"RUN_DONE\")\n",
    "        if entry in steady_done:\n",
    "            steady_done[entry].extend(times)\n",
    "        else:\n",
    "            steady_done[entry] = times"
   ]
  },
  {
   "cell_type": "code",
   "execution_count": 14,
   "metadata": {},
   "outputs": [
    {
     "name": "stdout",
     "output_type": "stream",
     "text": [
      "APS Theta 240\n",
      "APS Cori 489\n",
      "APS Summit 320\n",
      "ALS Theta 176\n",
      "ALS Cori 396\n",
      "ALS Summit 293\n"
     ]
    }
   ],
   "source": [
    "steady_utilization = {}\n",
    "for source, exp_tag in tags.items():\n",
    "    if \"both\" in exp_tag: continue\n",
    "    for key, job_qs in experiment_iter(exp_tag):\n",
    "        print(source, key[1], job_qs.count())\n",
    "        qs = EventLog.objects.filter(job_id=[j.id for j in job_qs])\n",
    "        steady_utilization[(source, key[1])] = utilization_report(qs)\n",
    "        \n",
    "steady_utilization = {k: steady_utilization[k] for k in ordered_keys}"
   ]
  },
  {
   "cell_type": "code",
   "execution_count": 134,
   "metadata": {},
   "outputs": [
    {
     "name": "stdout",
     "output_type": "stream",
     "text": [
      "APS Theta 240 Arrival Rate: 15.998270960202191\n",
      "APS Cori 489 Arrival Rate: 29.64105584544443\n",
      "APS Summit 320 Arrival Rate: 19.630757576076544\n",
      "ALS Theta 176 Arrival Rate: 12.371242529865066\n",
      "ALS Cori 396 Arrival Rate: 24.198248255200124\n",
      "ALS Summit 293 Arrival Rate: 17.93759508832159\n",
      "APS+ALS Theta 196 Arrival Rate: 15.298169797992584\n",
      "APS+ALS Cori 216 Arrival Rate: 18.063673571243392\n",
      "APS+ALS Summit 218 Arrival Rate: 17.099752297929882\n"
     ]
    },
    {
     "data": {
      "image/png": "[encoded data removed]",
      "text/plain": [
       "<Figure size 501.84x252 with 9 Axes>"
      ]
     },
     "metadata": {
      "needs_background": "light"
     },
     "output_type": "display_data"
    }
   ],
   "source": [
    "fig, axes = plt.subplots(nrows=3, ncols=3, sharex=True, sharey=True, figsize=(FULLWIDTH,3.5), gridspec_kw={\"wspace\": 0.2, \"hspace\": 0.5})\n",
    "\n",
    "arrival_rates = {}\n",
    "\n",
    "for ax, (key, data) in zip(axes.flatten(), steady_throughput.items()):\n",
    "    source, site = key\n",
    "    times = data\n",
    "    times_pre = steady_preprocessed[key]\n",
    "    t0 = min(times_pre)\n",
    "    times = sorted([(t - t0).total_seconds()/60.0 for t in times])\n",
    "    times_pre = sorted([(t - t0).total_seconds()/60.0 for t in times_pre])\n",
    "    counts = list(range(1, len(times)+1))\n",
    "    counts_pre = list(range(1, len(times_pre)+1))\n",
    "    ax.step(times_pre, counts_pre, where=\"post\", alpha=0.5, lw=2, c=sns.color_palette()[0])\n",
    "    ax.step(times, counts, where=\"post\", c=sns.color_palette()[0])\n",
    "    \n",
    "\n",
    "    print(source,site,max(counts), \"Arrival Rate:\", max(counts_pre)/max(times_pre))\n",
    "    arrival_rates[key] = max(counts_pre) / max(times_pre)\n",
    "    ax.set_title(f\"{source} - {site}\")\n",
    "    ax.set_yticks([0, 200, 400])\n",
    "    ax.set_xlim(0,12)\n",
    "    ax.set_ylim(0, 400)\n",
    "plt.savefig(\"figures/steady.pdf\", bbox_inches=\"tight\")"
   ]
  },
  {
   "cell_type": "code",
   "execution_count": 152,
   "metadata": {},
   "outputs": [
    {
     "name": "stdout",
     "output_type": "stream",
     "text": [
      "APS Theta 240 jobs done 16.9306527 minutes\n",
      "APS Summit 320 jobs done 18.691343 minutes\n",
      "APS Cori 489 jobs done 18.264313416666667 minutes\n",
      "ALS Theta 176 jobs done 16.311168266666666 minutes\n",
      "ALS Summit 293 jobs done 18.643407783333334 minutes\n",
      "ALS Cori 396 jobs done 17.766943166666668 minutes\n",
      "APS+ALS Theta 196 jobs done 14.730709183333333 minutes\n",
      "APS+ALS Summit 218 jobs done 15.309799966666667 minutes\n",
      "APS+ALS Cori 216 jobs done 13.128901233333332 minutes\n"
     ]
    },
    {
     "data": {
      "image/png": "[encoded data removed]",
      "text/plain": [
       "<Figure size 501.84x100.8 with 3 Axes>"
      ]
     },
     "metadata": {
      "needs_background": "light"
     },
     "output_type": "display_data"
    }
   ],
   "source": [
    "fig, axes = plt.subplots(nrows=1, ncols=3, sharex=True, sharey=True, figsize=(FULLWIDTH,1.4), gridspec_kw={\"wspace\": 0.15, \"hspace\": 0.5})\n",
    "\n",
    "\n",
    "for ax, source in zip(axes,[\"APS\", \"ALS\", \"APS+ALS\"]):\n",
    "    for i, site in enumerate([\"Theta\", \"Summit\", \"Cori\"]):\n",
    "        key = source, site\n",
    "        times = steady_throughput[key]\n",
    "        times_pre = steady_preprocessed[key]\n",
    "        times_done = steady_done[key]\n",
    "        t0 = min(times_pre)\n",
    "        times = sorted([(t - t0).total_seconds()/60.0 for t in times])\n",
    "        times_pre = sorted([(t - t0).total_seconds()/60.0 for t in times_pre])\n",
    "        times_done = sorted([(t - t0).total_seconds()/60.0 for t in times_done])\n",
    "        counts = list(range(1, len(times)+1))\n",
    "        counts_pre = list(range(1, len(times_pre)+1))\n",
    "        counts_done = list(range(1, len(times_done)+1))\n",
    "        \n",
    "        XX = np.linspace(0, 12, num=1500)\n",
    "        Y_stagedout = [len([t for t in times if t<= X]) for X in XX]\n",
    "        Y_pre = [len([t for t in times_pre if t<= X]) for X in XX]\n",
    "        \n",
    "        ax.fill_between(XX, Y_stagedout, Y_pre,  alpha=0.5, color=sns.color_palette()[i])\n",
    "        print(source, site, max(counts), \"jobs done\", max(times), \"minutes\")\n",
    "        \n",
    "        #ax.step(times_pre, counts_pre, where=\"post\", lw=2, ls='dashed', alpha=0.7, c=sns.color_palette()[i])\n",
    "        #ax.step(times, counts, where=\"post\", ls='dotted', lw=1, c=sns.color_palette()[i])#, label=site)\n",
    "        ax.step(times_done, counts_done, where=\"post\", c=sns.color_palette()[i], label=site)\n",
    "    ax.set_title(source)\n",
    "    ax.set_yticks([0, 100, 200, 300, 400])\n",
    "    ax.set_xlim(0,12)\n",
    "    ax.set_ylim(0, 400)\n",
    "    ax.xaxis.set_minor_locator(MultipleLocator(1))\n",
    "    ax.yaxis.set_minor_locator(MultipleLocator(50))\n",
    "    ax.set_xticks([0,2,4,6,8,10,12])\n",
    "axes[2].legend(loc=\"upper left\")\n",
    "axes[1].set_xlabel(\"Elapsed Time (minutes)\")\n",
    "axes[0].set_ylabel(\"Job Throughput\")\n",
    "plt.savefig(\"figures/steady.pdf\", bbox_inches=\"tight\")"
   ]
  },
  {
   "cell_type": "code",
   "execution_count": 150,
   "metadata": {},
   "outputs": [
    {
     "name": "stdout",
     "output_type": "stream",
     "text": [
      "('APS', 'Theta') 84.97357758897944 76.23859587470719\n",
      "('APS', 'Summit') 100.0 96.96488371900537\n",
      "('APS', 'Cori') 78.36693621857101 76.67674080796301\n"
     ]
    },
    {
     "data": {
      "image/png": "[encoded data removed]",
      "text/plain": [
       "<Figure size 501.84x100.8 with 3 Axes>"
      ]
     },
     "metadata": {
      "needs_background": "light"
     },
     "output_type": "display_data"
    }
   ],
   "source": [
    "fig, axes = plt.subplots(nrows=1, ncols=3, sharex=True, sharey=True, figsize=(FULLWIDTH,1.4), gridspec_kw={\"wspace\": 0.12, \"hspace\": 0.5})\n",
    "aps_util = {k:v for k,v in steady_utilization.items() if k[0] == \"APS\"}\n",
    "for ax, (key, data) in zip(axes, aps_util.items()):\n",
    "    times, utils = data\n",
    "    t0 = min(times)\n",
    "    times = [(t-t0).total_seconds()/60.0 for t in times]\n",
    "    utils = [100*c/32 for c in utils]\n",
    "    \n",
    "    interval = max(times) - min(times)\n",
    "    mean_util = 0.0\n",
    "    for i in range(len(times)-1):\n",
    "        mean_util += utils[i] * (times[i+1] - times[i]) / interval # Integrated time-average utilization\n",
    "        \n",
    "    theoretical_util = min(32, latencies[key][\"Run\"] * arrival_rates[key] / 60.0) # Little's Law\n",
    "    theoretical_util *= (100/32)\n",
    "    print(key, theoretical_util, mean_util)\n",
    "    \n",
    "    ax.axhline(theoretical_util, color=sns.color_palette()[1], lw=3, alpha=0.6, label=\"Little's law\")\n",
    "    ax.axhline(mean_util, color=sns.color_palette()[1], ls='--', label=\"Time-averaged\")\n",
    "    \n",
    "    ax.step(times, utils, where=\"post\", label=\"Instantaneous\")\n",
    "    ax.set_title(f\"{key[0]} $\\\\leftrightarrow$ {key[1]}\")\n",
    "    ax.set_xlim(0,12)\n",
    "    ax.set_ylim(0,105)\n",
    "    ax.set_yticks([0,25,50,75,100])\n",
    "    ax.xaxis.set_minor_locator(MultipleLocator(1))\n",
    "    ax.set_xticks([0,2,4,6,8,10,12])\n",
    "\n",
    "    \n",
    "axes[1].set_xlabel(\"Elapsed time (minutes)\")\n",
    "axes[0].set_ylabel(\"Compute Utilization (\\%)\")\n",
    "axes[2].legend(loc=\"lower right\")\n",
    "plt.savefig(\"figures/steady-util.pdf\",bbox_inches=\"tight\")"
   ]
  },
  {
   "cell_type": "code",
   "execution_count": 113,
   "metadata": {},
   "outputs": [
    {
     "data": {
      "text/plain": [
       "{('APS', 'Theta'): {'Stage In': 25.611160499999997,\n",
       "  'Run Delay': 2.6133845,\n",
       "  'Run': 101.9793135,\n",
       "  'Stage Out': 10.189468000000002,\n",
       "  'Total': 140.681492},\n",
       " ('APS', 'Cori'): {'Stage In': 20.835309,\n",
       "  'Run Delay': 2.623206,\n",
       "  'Run': 50.762199,\n",
       "  'Stage Out': 11.416396,\n",
       "  'Total': 99.599065},\n",
       " ('APS', 'Summit'): {'Stage In': 12.4501955,\n",
       "  'Run Delay': 1.83361,\n",
       "  'Run': 107.47037,\n",
       "  'Stage Out': 11.718161,\n",
       "  'Total': 133.66426},\n",
       " ('ALS', 'Theta'): {'Stage In': 30.9643005,\n",
       "  'Run Delay': 2.3251185000000003,\n",
       "  'Run': 101.9760955,\n",
       "  'Stage Out': 11.272949,\n",
       "  'Total': 147.37545949999998},\n",
       " ('ALS', 'Cori'): {'Stage In': 27.008646,\n",
       "  'Run Delay': 2.600969,\n",
       "  'Run': 66.933642,\n",
       "  'Stage Out': 14.19746,\n",
       "  'Total': 109.134754},\n",
       " ('ALS', 'Summit'): {'Stage In': 16.71549,\n",
       "  'Run Delay': 2.157418,\n",
       "  'Run': 107.981906,\n",
       "  'Stage Out': 11.274843,\n",
       "  'Total': 137.747419}}"
      ]
     },
     "execution_count": 113,
     "metadata": {},
     "output_type": "execute_result"
    }
   ],
   "source": [
    "latencies"
   ]
  },
  {
   "cell_type": "code",
   "execution_count": 120,
   "metadata": {},
   "outputs": [
    {
     "data": {
      "text/plain": [
       "27.191461237507657"
      ]
     },
     "execution_count": 120,
     "metadata": {},
     "output_type": "execute_result"
    }
   ],
   "source": [
    "101.979 * (15.998270960202191 / 60) # seconds * (jobs / second)"
   ]
  },
  {
   "cell_type": "code",
   "execution_count": 9,
   "metadata": {},
   "outputs": [
    {
     "name": "stdout",
     "output_type": "stream",
     "text": [
      "Round Robin Theta 240\n",
      "Round Robin Cori 224\n",
      "Round Robin Summit 224\n",
      "Shortest Backlog Theta 256\n",
      "Shortest Backlog Cori 272\n",
      "Shortest Backlog Summit 288\n"
     ]
    }
   ],
   "source": [
    "tags = {\"Round Robin\": \"round-robin-fast1\", \"Shortest Backlog\": \"shortest-backlog1\"}\n",
    "\n",
    "ready = {}\n",
    "preprocessed = {}\n",
    "done = {}\n",
    "finished = {}\n",
    "\n",
    "for method, exp_tag in tags.items():\n",
    "    for key, job_qs in experiment_iter(exp_tag):\n",
    "        assert key[0] == \"APS\"\n",
    "        site = key[1]\n",
    "        print(method, site, job_qs.count())\n",
    "        qs = EventLog.objects.filter(job_id=[j.id for j in job_qs])\n",
    "        ready[(method, site)], _ = throughput_report(qs, to_state=\"READY\")\n",
    "        preprocessed[(method, site)], _ = throughput_report(qs, to_state=\"PREPROCESSED\")\n",
    "        done[(method, site)], _ = throughput_report(qs, to_state=\"RUN_DONE\")\n",
    "        finished[(method, site)], _ = throughput_report(qs, to_state=\"JOB_FINISHED\")\n",
    "        #entry = (source, key[1])\n",
    "        #if entry in steady_throughput:\n",
    "        #    steady_throughput[entry].extend(times)\n",
    "        #else:\n",
    "        #    steady_throughput[entry] = times"
   ]
  },
  {
   "cell_type": "code",
   "execution_count": 27,
   "metadata": {},
   "outputs": [
    {
     "name": "stdout",
     "output_type": "stream",
     "text": [
      "Round Robin: Theta 15.23357763601629 jobs/min\n",
      "Shortest Backlog: Theta 15.477041099282637 jobs/min\n",
      "Round Robin: Summit 15.115918632058222 jobs/min\n",
      "Shortest Backlog: Summit 16.332415157970843 jobs/min\n",
      "Round Robin: Cori 15.963460076978537 jobs/min\n",
      "Shortest Backlog: Cori 18.518629847155193 jobs/min\n",
      "[15.23357763601629, 15.115918632058222, 15.963460076978537] [15.477041099282637, 16.332415157970843, 18.518629847155193]\n"
     ]
    },
    {
     "data": {
      "image/png": "[encoded data removed]",
      "text/plain": [
       "<Figure size 246.24x122.4 with 1 Axes>"
      ]
     },
     "metadata": {
      "needs_background": "light"
     },
     "output_type": "display_data"
    }
   ],
   "source": [
    "round_robin, shortest_backlog = [], []\n",
    "labels = [\"Theta\", \"Summit\", \"Cori\"]\n",
    "for site in labels:\n",
    "    key = (\"Round Robin\", site)\n",
    "    t0 = min(ready[key])\n",
    "    finished_times = [(t-t0).total_seconds()/60 for t in finished[key]]\n",
    "    print(\"Round Robin:\", site, len(finished_times)/max(finished_times), \"jobs/min\")\n",
    "    round_robin.append(len(finished_times)/max(finished_times))\n",
    "   \n",
    "    key = (\"Shortest Backlog\", site)\n",
    "    t0 = min(ready[key])\n",
    "    finished_times = [(t-t0).total_seconds()/60 for t in finished[key]]\n",
    "    print(\"Shortest Backlog:\", site, len(finished_times)/max(finished_times), \"jobs/min\")\n",
    "    shortest_backlog.append(len(finished_times)/max(finished_times))\n",
    "\n",
    "print(round_robin, shortest_backlog)\n",
    "fig, ax = plt.subplots(figsize=(COLWIDTH, 1.7))\n",
    "multi_barplot(ax, labels, [\"Round Robin\", \"Shortest Backlog\"], round_robin, shortest_backlog)\n",
    "ax.set_ylim(0,35)\n",
    "ax.set_ylabel(\"Average Throughput (jobs / min)\")\n",
    "plt.savefig(\"figures/rr_vs_sb_thru.pdf\", bbox_inches=\"tight\")"
   ]
  },
  {
   "cell_type": "code",
   "execution_count": 36,
   "metadata": {},
   "outputs": [
    {
     "data": {
      "image/png": "[encoded data removed]",
      "text/plain": [
       "<Figure size 246.24x100.8 with 2 Axes>"
      ]
     },
     "metadata": {
      "needs_background": "light"
     },
     "output_type": "display_data"
    }
   ],
   "source": [
    "rr_key = (\"Round Robin\", \"Cori\")\n",
    "sb_key = (\"Shortest Backlog\", \"Cori\")\n",
    "\n",
    "def emin(tarr, t0):\n",
    "    return [(t-t0).total_seconds()/60 for t in tarr]\n",
    "\n",
    "rr_pre = preprocessed[rr_key]\n",
    "sb_pre = preprocessed[sb_key]\n",
    "rr_done = done[rr_key]\n",
    "\n",
    "sb_done = done[sb_key]\n",
    "rr_fin = finished[rr_key]\n",
    "sb_fin = finished[sb_key]\n",
    "\n",
    "\n",
    "fig, axes = plt.subplots(nrows=1, ncols=2, figsize=(COLWIDTH, 1.4), sharex=True, sharey=True)\n",
    "t0 = min(rr_pre)\n",
    "axes[0].step(emin(rr_pre, t0), range(224), where=\"post\", label=\"Staged In\")\n",
    "axes[0].step(emin(rr_done, t0), range(224), where=\"post\", label=\"Run Done\")\n",
    "axes[0].step(emin(rr_fin, t0), range(224), where=\"post\", label=\"Staged Out\")\n",
    "axes[0].set_title(\"Round Robin\")\n",
    "\n",
    "t0 = min(sb_pre)\n",
    "axes[1].step(emin(sb_pre, t0), range(272), where=\"post\", label=\"Staged In\")\n",
    "axes[1].step(emin(sb_done, t0), range(272), where=\"post\", label=\"Run Done\")\n",
    "axes[1].step(emin(sb_fin, t0), range(272), where=\"post\", label=\"Staged Out\")\n",
    "axes[1].set_title(\"Shortest Backlog\")\n",
    "axes[0].set_xlim(0,14)\n",
    "axes[1].set_ylim(0, 300)\n",
    "with plt.rc_context(rc={\n",
    "    \"legend.handlelength\":1.0, \n",
    "    \"legend.labelspacing\":0.1, \n",
    "    \"legend.borderpad\": 0.2, \n",
    "    \"legend.handletextpad\": 0.55, \n",
    "    \"legend.columnspacing\": 1.1, \n",
    "    \"legend.borderaxespad\": 0.2\n",
    "}):\n",
    "    axes[0].legend()\n",
    "    axes[0].set_xlabel(\"Elapsed Time (minutes)\", x=1.12)\n",
    "    axes[0].set_ylabel(\"Job Count\")\n",
    "    axes[0].xaxis.set_minor_locator(MultipleLocator(1))\n",
    "    axes[0].yaxis.set_minor_locator(MultipleLocator(50))\n",
    "    plt.savefig(\"figures/rr_vs_sb-cori-explanation.pdf\", bbox_inches=\"tight\")"
   ]
  },
  {
   "cell_type": "code",
   "execution_count": 49,
   "metadata": {},
   "outputs": [
    {
     "data": {
      "image/png": "[encoded data removed]",
      "text/plain": [
       "<Figure size 246.24x72 with 3 Axes>"
      ]
     },
     "metadata": {
      "needs_background": "light"
     },
     "output_type": "display_data"
    }
   ],
   "source": [
    "fig, axes =  plt.subplots(nrows=1, ncols=3, sharex=True, sharey=True, figsize=(COLWIDTH,1.0), gridspec_kw={\"wspace\": 0.20, \"hspace\": 0.5})\n",
    "for site, ax in zip([\"Theta\", \"Summit\", \"Cori\"], axes):\n",
    "    key = (\"Round Robin\", site)\n",
    "    round_robin = ready[(\"Round Robin\", site)]\n",
    "    shortest_backlog = ready[(\"Shortest Backlog\", site)]\n",
    "    t0 = min(round_robin)\n",
    "    round_robin = [(t - t0).total_seconds() / 60. for t in round_robin]\n",
    "    t0 = min(shortest_backlog)\n",
    "    shortest_backlog = [(t - t0).total_seconds() / 60. for t in shortest_backlog]\n",
    "    t_grid = np.linspace(start=0, stop=min(max(round_robin), max(shortest_backlog)), num=2000)\n",
    "    count_rr, count_sb = [], []\n",
    "    for T in t_grid:\n",
    "        count_rr.append(len([t for t in round_robin if t <= T]))\n",
    "        count_sb.append(len([t for t in shortest_backlog if t <= T]))\n",
    "    count_rr = np.array(count_rr)\n",
    "    count_sb = np.array(count_sb)\n",
    "    ax.axhline(0, c='k', ls='dotted')\n",
    "    ax.plot(t_grid, count_sb - count_rr, label=\"RR\")\n",
    "    ax.set_xlim(0,6)\n",
    "    ax.set_xticks([0,2,4,6])\n",
    "    ax.xaxis.set_minor_locator(MultipleLocator(1))\n",
    "    ax.set_ylim(-40,40)\n",
    "    ax.set_yticks([-40,-20,0,20,40])\n",
    "    ax.yaxis.set_minor_locator(MultipleLocator(10))\n",
    "    ax.set_title(site)#, x=0.18, y=0.55)\n",
    "axes[1].set_xlabel(\"Elapsed Time (minutes)\")\n",
    "axes[0].set_ylabel(r\"$\\Delta_{SB-RR}$\")\n",
    "plt.savefig(\"figures/rr_vs_sb_submitted.pdf\", bbox_inches=\"tight\")"
   ]
  },
  {
   "cell_type": "markdown",
   "metadata": {},
   "source": [
    "# Slower RR vs SB (1 task per min)"
   ]
  },
  {
   "cell_type": "code",
   "execution_count": null,
   "metadata": {},
   "outputs": [],
   "source": [
    "tags = {\"Round Robin\": \"round-robin-fast1\", \"Shortest Backlog\": \"shortest-backlog1\"}\n",
    "\n",
    "ready = {}\n",
    "preprocessed = {}\n",
    "done = {}\n",
    "finished = {}\n",
    "\n",
    "for method, exp_tag in tags.items():\n",
    "    for key, job_qs in experiment_iter(exp_tag):\n",
    "        assert key[0] == \"APS\"\n",
    "        site = key[1]\n",
    "        print(method, site, job_qs.count())\n",
    "        qs = EventLog.objects.filter(job_id=[j.id for j in job_qs])\n",
    "        ready[(method, site)], _ = throughput_report(qs, to_state=\"READY\")\n",
    "        preprocessed[(method, site)], _ = throughput_report(qs, to_state=\"PREPROCESSED\")\n",
    "        done[(method, site)], _ = throughput_report(qs, to_state=\"RUN_DONE\")\n",
    "        finished[(method, site)], _ = throughput_report(qs, to_state=\"JOB_FINISHED\")\n",
    "        #entry = (source, key[1])\n",
    "        #if entry in steady_throughput:\n",
    "        #    steady_throughput[entry].extend(times)\n",
    "        #else:\n",
    "        #    steady_throughput[entry] = times"
   ]
  }
 ],
 "metadata": {
  "kernelspec": {
   "display_name": "Python 3",
   "language": "python",
   "name": "python3"
  },
  "language_info": {
   "codemirror_mode": {
    "name": "ipython",
    "version": 3
   },
   "file_extension": ".py",
   "mimetype": "text/x-python",
   "name": "python",
   "nbconvert_exporter": "python",
   "pygments_lexer": "ipython3",
   "version": "3.8.3"
  }
 },
 "nbformat": 4,
 "nbformat_minor": 4
}
